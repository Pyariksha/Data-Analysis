{
 "cells": [
  {
   "cell_type": "markdown",
   "metadata": {},
   "source": [
    "# Beer dataset exploratory data analysis"
   ]
  },
  {
   "cell_type": "markdown",
   "metadata": {},
   "source": [
    "### The purpose of this notebook is to conduct exploratory data analysis on the beer dataset and the steps taken are as follows:\n",
    "\n",
    "1. Data cleaning <br>\n",
    "   1.1 Removing missing values<br>\n",
    "   1.2 Removing duplicates<br>\n",
    "2. Overview of the dataset<br>\n",
    "3. Describing the dataset <br>\n",
    "4. Visualising the data <br>\n",
    "   4.1 The Top 10 beers<br>\n",
    "   4.2 The Top 10 beer styles<br>\n",
    "   4.3 The Top 10 breweries<br>\n",
    "   4.4 Beers with the highest average ratings based on overall reviews<br>\n",
    "5. Narrowing it down to two glorious beers! - exporting so visualisations can be done in Tableau <br>\n",
    "6. Further analysis <br>"
   ]
  },
  {
   "cell_type": "markdown",
   "metadata": {},
   "source": [
    "## 1. Data cleaning"
   ]
  },
  {
   "cell_type": "markdown",
   "metadata": {},
   "source": [
    "#### 1.1 Removing missing values"
   ]
  },
  {
   "cell_type": "code",
   "execution_count": 1,
   "metadata": {},
   "outputs": [],
   "source": [
    "#import libraries\n",
    "import pandas as pd\n",
    "import numpy as np\n",
    "import matplotlib.pyplot as plt\n",
    "import seaborn as sns"
   ]
  },
  {
   "cell_type": "code",
   "execution_count": 2,
   "metadata": {},
   "outputs": [],
   "source": [
    "#read beer_reviews.csv and create dataframe\n",
    "df = pd.read_csv(\"beer_reviews.csv\")"
   ]
  },
  {
   "cell_type": "code",
   "execution_count": 3,
   "metadata": {
    "scrolled": true
   },
   "outputs": [
    {
     "data": {
      "text/html": [
       "<div>\n",
       "<style scoped>\n",
       "    .dataframe tbody tr th:only-of-type {\n",
       "        vertical-align: middle;\n",
       "    }\n",
       "\n",
       "    .dataframe tbody tr th {\n",
       "        vertical-align: top;\n",
       "    }\n",
       "\n",
       "    .dataframe thead th {\n",
       "        text-align: right;\n",
       "    }\n",
       "</style>\n",
       "<table border=\"1\" class=\"dataframe\">\n",
       "  <thead>\n",
       "    <tr style=\"text-align: right;\">\n",
       "      <th></th>\n",
       "      <th>brewery_id</th>\n",
       "      <th>brewery_name</th>\n",
       "      <th>review_time</th>\n",
       "      <th>review_overall</th>\n",
       "      <th>review_aroma</th>\n",
       "      <th>review_appearance</th>\n",
       "      <th>review_profilename</th>\n",
       "      <th>beer_style</th>\n",
       "      <th>review_palate</th>\n",
       "      <th>review_taste</th>\n",
       "      <th>beer_name</th>\n",
       "      <th>beer_abv</th>\n",
       "      <th>beer_beerid</th>\n",
       "    </tr>\n",
       "  </thead>\n",
       "  <tbody>\n",
       "    <tr>\n",
       "      <td>0</td>\n",
       "      <td>10325</td>\n",
       "      <td>Vecchio Birraio</td>\n",
       "      <td>1234817823</td>\n",
       "      <td>1.5</td>\n",
       "      <td>2.0</td>\n",
       "      <td>2.5</td>\n",
       "      <td>stcules</td>\n",
       "      <td>Hefeweizen</td>\n",
       "      <td>1.5</td>\n",
       "      <td>1.5</td>\n",
       "      <td>Sausa Weizen</td>\n",
       "      <td>5.0</td>\n",
       "      <td>47986</td>\n",
       "    </tr>\n",
       "    <tr>\n",
       "      <td>1</td>\n",
       "      <td>10325</td>\n",
       "      <td>Vecchio Birraio</td>\n",
       "      <td>1235915097</td>\n",
       "      <td>3.0</td>\n",
       "      <td>2.5</td>\n",
       "      <td>3.0</td>\n",
       "      <td>stcules</td>\n",
       "      <td>English Strong Ale</td>\n",
       "      <td>3.0</td>\n",
       "      <td>3.0</td>\n",
       "      <td>Red Moon</td>\n",
       "      <td>6.2</td>\n",
       "      <td>48213</td>\n",
       "    </tr>\n",
       "    <tr>\n",
       "      <td>2</td>\n",
       "      <td>10325</td>\n",
       "      <td>Vecchio Birraio</td>\n",
       "      <td>1235916604</td>\n",
       "      <td>3.0</td>\n",
       "      <td>2.5</td>\n",
       "      <td>3.0</td>\n",
       "      <td>stcules</td>\n",
       "      <td>Foreign / Export Stout</td>\n",
       "      <td>3.0</td>\n",
       "      <td>3.0</td>\n",
       "      <td>Black Horse Black Beer</td>\n",
       "      <td>6.5</td>\n",
       "      <td>48215</td>\n",
       "    </tr>\n",
       "    <tr>\n",
       "      <td>3</td>\n",
       "      <td>10325</td>\n",
       "      <td>Vecchio Birraio</td>\n",
       "      <td>1234725145</td>\n",
       "      <td>3.0</td>\n",
       "      <td>3.0</td>\n",
       "      <td>3.5</td>\n",
       "      <td>stcules</td>\n",
       "      <td>German Pilsener</td>\n",
       "      <td>2.5</td>\n",
       "      <td>3.0</td>\n",
       "      <td>Sausa Pils</td>\n",
       "      <td>5.0</td>\n",
       "      <td>47969</td>\n",
       "    </tr>\n",
       "    <tr>\n",
       "      <td>4</td>\n",
       "      <td>1075</td>\n",
       "      <td>Caldera Brewing Company</td>\n",
       "      <td>1293735206</td>\n",
       "      <td>4.0</td>\n",
       "      <td>4.5</td>\n",
       "      <td>4.0</td>\n",
       "      <td>johnmichaelsen</td>\n",
       "      <td>American Double / Imperial IPA</td>\n",
       "      <td>4.0</td>\n",
       "      <td>4.5</td>\n",
       "      <td>Cauldron DIPA</td>\n",
       "      <td>7.7</td>\n",
       "      <td>64883</td>\n",
       "    </tr>\n",
       "  </tbody>\n",
       "</table>\n",
       "</div>"
      ],
      "text/plain": [
       "   brewery_id             brewery_name  review_time  review_overall  \\\n",
       "0       10325          Vecchio Birraio   1234817823             1.5   \n",
       "1       10325          Vecchio Birraio   1235915097             3.0   \n",
       "2       10325          Vecchio Birraio   1235916604             3.0   \n",
       "3       10325          Vecchio Birraio   1234725145             3.0   \n",
       "4        1075  Caldera Brewing Company   1293735206             4.0   \n",
       "\n",
       "   review_aroma  review_appearance review_profilename  \\\n",
       "0           2.0                2.5            stcules   \n",
       "1           2.5                3.0            stcules   \n",
       "2           2.5                3.0            stcules   \n",
       "3           3.0                3.5            stcules   \n",
       "4           4.5                4.0     johnmichaelsen   \n",
       "\n",
       "                       beer_style  review_palate  review_taste  \\\n",
       "0                      Hefeweizen            1.5           1.5   \n",
       "1              English Strong Ale            3.0           3.0   \n",
       "2          Foreign / Export Stout            3.0           3.0   \n",
       "3                 German Pilsener            2.5           3.0   \n",
       "4  American Double / Imperial IPA            4.0           4.5   \n",
       "\n",
       "                beer_name  beer_abv  beer_beerid  \n",
       "0            Sausa Weizen       5.0        47986  \n",
       "1                Red Moon       6.2        48213  \n",
       "2  Black Horse Black Beer       6.5        48215  \n",
       "3              Sausa Pils       5.0        47969  \n",
       "4           Cauldron DIPA       7.7        64883  "
      ]
     },
     "execution_count": 3,
     "metadata": {},
     "output_type": "execute_result"
    }
   ],
   "source": [
    "#have a look at a data sample of the first 5 rows in the dataframe\n",
    "df.head()"
   ]
  },
  {
   "cell_type": "code",
   "execution_count": 4,
   "metadata": {},
   "outputs": [
    {
     "name": "stdout",
     "output_type": "stream",
     "text": [
      "<class 'pandas.core.frame.DataFrame'>\n",
      "RangeIndex: 1586614 entries, 0 to 1586613\n",
      "Data columns (total 13 columns):\n",
      "brewery_id            1586614 non-null int64\n",
      "brewery_name          1586599 non-null object\n",
      "review_time           1586614 non-null int64\n",
      "review_overall        1586614 non-null float64\n",
      "review_aroma          1586614 non-null float64\n",
      "review_appearance     1586614 non-null float64\n",
      "review_profilename    1586266 non-null object\n",
      "beer_style            1586614 non-null object\n",
      "review_palate         1586614 non-null float64\n",
      "review_taste          1586614 non-null float64\n",
      "beer_name             1586614 non-null object\n",
      "beer_abv              1518829 non-null float64\n",
      "beer_beerid           1586614 non-null int64\n",
      "dtypes: float64(6), int64(3), object(4)\n",
      "memory usage: 133.2+ MB\n"
     ]
    },
    {
     "data": {
      "text/plain": [
       "1586614"
      ]
     },
     "execution_count": 4,
     "metadata": {},
     "output_type": "execute_result"
    }
   ],
   "source": [
    "#get a description of the data showing the column names, number of rows, missing values (analyse range index in comparison to len(df)) & data types \n",
    "df.info()\n",
    "len(df)"
   ]
  },
  {
   "cell_type": "code",
   "execution_count": 5,
   "metadata": {
    "scrolled": true
   },
   "outputs": [
    {
     "data": {
      "text/html": [
       "<div>\n",
       "<style scoped>\n",
       "    .dataframe tbody tr th:only-of-type {\n",
       "        vertical-align: middle;\n",
       "    }\n",
       "\n",
       "    .dataframe tbody tr th {\n",
       "        vertical-align: top;\n",
       "    }\n",
       "\n",
       "    .dataframe thead th {\n",
       "        text-align: right;\n",
       "    }\n",
       "</style>\n",
       "<table border=\"1\" class=\"dataframe\">\n",
       "  <thead>\n",
       "    <tr style=\"text-align: right;\">\n",
       "      <th></th>\n",
       "      <th>brewery_id</th>\n",
       "      <th>brewery_name</th>\n",
       "      <th>review_time</th>\n",
       "      <th>review_overall</th>\n",
       "      <th>review_aroma</th>\n",
       "      <th>review_appearance</th>\n",
       "      <th>review_profilename</th>\n",
       "      <th>beer_style</th>\n",
       "      <th>review_palate</th>\n",
       "      <th>review_taste</th>\n",
       "      <th>beer_name</th>\n",
       "      <th>beer_abv</th>\n",
       "      <th>beer_beerid</th>\n",
       "    </tr>\n",
       "  </thead>\n",
       "  <tbody>\n",
       "    <tr>\n",
       "      <td>273</td>\n",
       "      <td>1075</td>\n",
       "      <td>Caldera Brewing Company</td>\n",
       "      <td>1103668195</td>\n",
       "      <td>3.0</td>\n",
       "      <td>3.0</td>\n",
       "      <td>3.0</td>\n",
       "      <td>RedDiamond</td>\n",
       "      <td>American Stout</td>\n",
       "      <td>4.0</td>\n",
       "      <td>3.0</td>\n",
       "      <td>Cauldron Espresso Stout</td>\n",
       "      <td>NaN</td>\n",
       "      <td>21241</td>\n",
       "    </tr>\n",
       "    <tr>\n",
       "      <td>430</td>\n",
       "      <td>850</td>\n",
       "      <td>Moon River Brewing Company</td>\n",
       "      <td>1110736110</td>\n",
       "      <td>3.5</td>\n",
       "      <td>4.0</td>\n",
       "      <td>4.5</td>\n",
       "      <td>cMonkey</td>\n",
       "      <td>Scotch Ale / Wee Heavy</td>\n",
       "      <td>3.5</td>\n",
       "      <td>3.5</td>\n",
       "      <td>The Highland Stagger</td>\n",
       "      <td>NaN</td>\n",
       "      <td>20689</td>\n",
       "    </tr>\n",
       "    <tr>\n",
       "      <td>603</td>\n",
       "      <td>850</td>\n",
       "      <td>Moon River Brewing Company</td>\n",
       "      <td>1100038819</td>\n",
       "      <td>4.0</td>\n",
       "      <td>3.5</td>\n",
       "      <td>4.0</td>\n",
       "      <td>aracauna</td>\n",
       "      <td>Scotch Ale / Wee Heavy</td>\n",
       "      <td>3.5</td>\n",
       "      <td>3.5</td>\n",
       "      <td>The Highland Stagger</td>\n",
       "      <td>NaN</td>\n",
       "      <td>20689</td>\n",
       "    </tr>\n",
       "    <tr>\n",
       "      <td>733</td>\n",
       "      <td>1075</td>\n",
       "      <td>Caldera Brewing Company</td>\n",
       "      <td>1260673921</td>\n",
       "      <td>4.0</td>\n",
       "      <td>4.0</td>\n",
       "      <td>4.0</td>\n",
       "      <td>plaid75</td>\n",
       "      <td>American IPA</td>\n",
       "      <td>4.0</td>\n",
       "      <td>4.0</td>\n",
       "      <td>Alpha Beta</td>\n",
       "      <td>NaN</td>\n",
       "      <td>54723</td>\n",
       "    </tr>\n",
       "    <tr>\n",
       "      <td>798</td>\n",
       "      <td>1075</td>\n",
       "      <td>Caldera Brewing Company</td>\n",
       "      <td>1212201268</td>\n",
       "      <td>4.5</td>\n",
       "      <td>4.5</td>\n",
       "      <td>4.0</td>\n",
       "      <td>grumpy</td>\n",
       "      <td>American Double / Imperial Stout</td>\n",
       "      <td>4.0</td>\n",
       "      <td>4.5</td>\n",
       "      <td>Imperial Stout</td>\n",
       "      <td>NaN</td>\n",
       "      <td>42964</td>\n",
       "    </tr>\n",
       "    <tr>\n",
       "      <td>...</td>\n",
       "      <td>...</td>\n",
       "      <td>...</td>\n",
       "      <td>...</td>\n",
       "      <td>...</td>\n",
       "      <td>...</td>\n",
       "      <td>...</td>\n",
       "      <td>...</td>\n",
       "      <td>...</td>\n",
       "      <td>...</td>\n",
       "      <td>...</td>\n",
       "      <td>...</td>\n",
       "      <td>...</td>\n",
       "      <td>...</td>\n",
       "    </tr>\n",
       "    <tr>\n",
       "      <td>1586568</td>\n",
       "      <td>14359</td>\n",
       "      <td>The Defiant Brewing Company</td>\n",
       "      <td>1187052567</td>\n",
       "      <td>4.0</td>\n",
       "      <td>3.5</td>\n",
       "      <td>4.0</td>\n",
       "      <td>maddogruss</td>\n",
       "      <td>Bock</td>\n",
       "      <td>4.0</td>\n",
       "      <td>4.0</td>\n",
       "      <td>Bock</td>\n",
       "      <td>NaN</td>\n",
       "      <td>36424</td>\n",
       "    </tr>\n",
       "    <tr>\n",
       "      <td>1586587</td>\n",
       "      <td>14359</td>\n",
       "      <td>The Defiant Brewing Company</td>\n",
       "      <td>1177842168</td>\n",
       "      <td>3.5</td>\n",
       "      <td>4.5</td>\n",
       "      <td>4.0</td>\n",
       "      <td>BBM</td>\n",
       "      <td>Maibock / Helles Bock</td>\n",
       "      <td>4.5</td>\n",
       "      <td>4.0</td>\n",
       "      <td>Maibock</td>\n",
       "      <td>NaN</td>\n",
       "      <td>36555</td>\n",
       "    </tr>\n",
       "    <tr>\n",
       "      <td>1586596</td>\n",
       "      <td>14359</td>\n",
       "      <td>The Defiant Brewing Company</td>\n",
       "      <td>1287951067</td>\n",
       "      <td>4.0</td>\n",
       "      <td>3.0</td>\n",
       "      <td>5.0</td>\n",
       "      <td>hoppymcgee</td>\n",
       "      <td>Belgian Strong Pale Ale</td>\n",
       "      <td>4.0</td>\n",
       "      <td>3.5</td>\n",
       "      <td>Resolution #2</td>\n",
       "      <td>NaN</td>\n",
       "      <td>48360</td>\n",
       "    </tr>\n",
       "    <tr>\n",
       "      <td>1586597</td>\n",
       "      <td>14359</td>\n",
       "      <td>The Defiant Brewing Company</td>\n",
       "      <td>1241906223</td>\n",
       "      <td>4.5</td>\n",
       "      <td>4.5</td>\n",
       "      <td>4.0</td>\n",
       "      <td>WesWes</td>\n",
       "      <td>Belgian Strong Pale Ale</td>\n",
       "      <td>4.0</td>\n",
       "      <td>4.0</td>\n",
       "      <td>Resolution #2</td>\n",
       "      <td>NaN</td>\n",
       "      <td>48360</td>\n",
       "    </tr>\n",
       "    <tr>\n",
       "      <td>1586598</td>\n",
       "      <td>14359</td>\n",
       "      <td>The Defiant Brewing Company</td>\n",
       "      <td>1236550020</td>\n",
       "      <td>4.0</td>\n",
       "      <td>4.0</td>\n",
       "      <td>3.5</td>\n",
       "      <td>Slatetank</td>\n",
       "      <td>Belgian Strong Pale Ale</td>\n",
       "      <td>4.0</td>\n",
       "      <td>4.5</td>\n",
       "      <td>Resolution #2</td>\n",
       "      <td>NaN</td>\n",
       "      <td>48360</td>\n",
       "    </tr>\n",
       "  </tbody>\n",
       "</table>\n",
       "<p>68136 rows × 13 columns</p>\n",
       "</div>"
      ],
      "text/plain": [
       "         brewery_id                 brewery_name  review_time  review_overall  \\\n",
       "273            1075      Caldera Brewing Company   1103668195             3.0   \n",
       "430             850   Moon River Brewing Company   1110736110             3.5   \n",
       "603             850   Moon River Brewing Company   1100038819             4.0   \n",
       "733            1075      Caldera Brewing Company   1260673921             4.0   \n",
       "798            1075      Caldera Brewing Company   1212201268             4.5   \n",
       "...             ...                          ...          ...             ...   \n",
       "1586568       14359  The Defiant Brewing Company   1187052567             4.0   \n",
       "1586587       14359  The Defiant Brewing Company   1177842168             3.5   \n",
       "1586596       14359  The Defiant Brewing Company   1287951067             4.0   \n",
       "1586597       14359  The Defiant Brewing Company   1241906223             4.5   \n",
       "1586598       14359  The Defiant Brewing Company   1236550020             4.0   \n",
       "\n",
       "         review_aroma  review_appearance review_profilename  \\\n",
       "273               3.0                3.0         RedDiamond   \n",
       "430               4.0                4.5            cMonkey   \n",
       "603               3.5                4.0           aracauna   \n",
       "733               4.0                4.0            plaid75   \n",
       "798               4.5                4.0             grumpy   \n",
       "...               ...                ...                ...   \n",
       "1586568           3.5                4.0         maddogruss   \n",
       "1586587           4.5                4.0                BBM   \n",
       "1586596           3.0                5.0         hoppymcgee   \n",
       "1586597           4.5                4.0             WesWes   \n",
       "1586598           4.0                3.5          Slatetank   \n",
       "\n",
       "                               beer_style  review_palate  review_taste  \\\n",
       "273                        American Stout            4.0           3.0   \n",
       "430                Scotch Ale / Wee Heavy            3.5           3.5   \n",
       "603                Scotch Ale / Wee Heavy            3.5           3.5   \n",
       "733                          American IPA            4.0           4.0   \n",
       "798      American Double / Imperial Stout            4.0           4.5   \n",
       "...                                   ...            ...           ...   \n",
       "1586568                              Bock            4.0           4.0   \n",
       "1586587             Maibock / Helles Bock            4.5           4.0   \n",
       "1586596           Belgian Strong Pale Ale            4.0           3.5   \n",
       "1586597           Belgian Strong Pale Ale            4.0           4.0   \n",
       "1586598           Belgian Strong Pale Ale            4.0           4.5   \n",
       "\n",
       "                       beer_name  beer_abv  beer_beerid  \n",
       "273      Cauldron Espresso Stout       NaN        21241  \n",
       "430         The Highland Stagger       NaN        20689  \n",
       "603         The Highland Stagger       NaN        20689  \n",
       "733                   Alpha Beta       NaN        54723  \n",
       "798               Imperial Stout       NaN        42964  \n",
       "...                          ...       ...          ...  \n",
       "1586568                     Bock       NaN        36424  \n",
       "1586587                  Maibock       NaN        36555  \n",
       "1586596            Resolution #2       NaN        48360  \n",
       "1586597            Resolution #2       NaN        48360  \n",
       "1586598            Resolution #2       NaN        48360  \n",
       "\n",
       "[68136 rows x 13 columns]"
      ]
     },
     "execution_count": 5,
     "metadata": {},
     "output_type": "execute_result"
    }
   ],
   "source": [
    "#Get all rows with missing values (NaN) - 68136\n",
    "is_NaN = df.isnull()\n",
    "row_has_NaN = is_NaN.any(axis=1)\n",
    "rows_with_NaN = df[row_has_NaN]\n",
    "rows_with_NaN"
   ]
  },
  {
   "cell_type": "markdown",
   "metadata": {},
   "source": [
    "#### 1st checkpoint:\n",
    "1. Columns with missing values:<br>\n",
    "-brewery_name <br>\n",
    "-review_profilename <br>\n",
    "-beer_abv <br>\n",
    "\n",
    "The rows of these columns with missing values (68136 as shown in the above code) will be removed to ensure that we only use valid data in finding the ultimate beer! \n",
    "\n",
    "The number of rows dropped as shown in the below code is 68136 which matches our expectations.\n",
    "\n",
    "A new dataframe (df1 in this case) will be created everytime changes are made to allow for checkpoints to be saved (notebook best practices)."
   ]
  },
  {
   "cell_type": "code",
   "execution_count": 6,
   "metadata": {},
   "outputs": [
    {
     "name": "stdout",
     "output_type": "stream",
     "text": [
      "<class 'pandas.core.frame.DataFrame'>\n",
      "Int64Index: 1518478 entries, 0 to 1586613\n",
      "Data columns (total 13 columns):\n",
      "brewery_id            1518478 non-null int64\n",
      "brewery_name          1518478 non-null object\n",
      "review_time           1518478 non-null int64\n",
      "review_overall        1518478 non-null float64\n",
      "review_aroma          1518478 non-null float64\n",
      "review_appearance     1518478 non-null float64\n",
      "review_profilename    1518478 non-null object\n",
      "beer_style            1518478 non-null object\n",
      "review_palate         1518478 non-null float64\n",
      "review_taste          1518478 non-null float64\n",
      "beer_name             1518478 non-null object\n",
      "beer_abv              1518478 non-null float64\n",
      "beer_beerid           1518478 non-null int64\n",
      "dtypes: float64(6), int64(3), object(4)\n",
      "memory usage: 139.0+ MB\n",
      "The number of dropped rows with missing values: 68136\n"
     ]
    }
   ],
   "source": [
    "#drop the rows with at least 1 missing value\n",
    "df1 = df.dropna()\n",
    "df1.info()\n",
    "print(\"The number of dropped rows with missing values:\" + \" \" + str(len(df) - len(df1)))"
   ]
  },
  {
   "cell_type": "markdown",
   "metadata": {},
   "source": [
    "#### 1.2 Removing duplicates\n",
    "\n",
    "Duplicates may exist if reviewers have reviewed a specific beer more than once. In this case, the highest review will be taken and the rest will be removed from the analysis.\n",
    "\n",
    "The subset to be considered are the 'review_profilename' & 'beer_name' columns as this will give us which beers were rated by the same reviewers more than once."
   ]
  },
  {
   "cell_type": "code",
   "execution_count": 7,
   "metadata": {},
   "outputs": [],
   "source": [
    "df2 = df1.drop_duplicates( subset = ['review_profilename', 'beer_name'], keep = 'first')"
   ]
  },
  {
   "cell_type": "code",
   "execution_count": 121,
   "metadata": {},
   "outputs": [
    {
     "name": "stdout",
     "output_type": "stream",
     "text": [
      "<class 'pandas.core.frame.DataFrame'>\n",
      "Int64Index: 1496263 entries, 0 to 1586613\n",
      "Data columns (total 13 columns):\n",
      "brewery_id            1496263 non-null int64\n",
      "brewery_name          1496263 non-null object\n",
      "review_time           1496263 non-null datetime64[ns]\n",
      "review_overall        1496263 non-null float64\n",
      "review_aroma          1496263 non-null float64\n",
      "review_appearance     1496263 non-null float64\n",
      "review_profilename    1496263 non-null object\n",
      "beer_style            1496263 non-null object\n",
      "review_palate         1496263 non-null float64\n",
      "review_taste          1496263 non-null float64\n",
      "beer_name             1496263 non-null object\n",
      "beer_abv              1496263 non-null float64\n",
      "beer_beerid           1496263 non-null int64\n",
      "dtypes: datetime64[ns](1), float64(6), int64(2), object(4)\n",
      "memory usage: 169.0+ MB\n",
      "The number of dropped rows with duplicate values: 22215\n"
     ]
    },
    {
     "name": "stderr",
     "output_type": "stream",
     "text": [
      "C:\\Users\\pyari\\Anaconda3\\lib\\site-packages\\ipykernel_launcher.py:4: SettingWithCopyWarning: \n",
      "A value is trying to be set on a copy of a slice from a DataFrame.\n",
      "Try using .loc[row_indexer,col_indexer] = value instead\n",
      "\n",
      "See the caveats in the documentation: http://pandas.pydata.org/pandas-docs/stable/user_guide/indexing.html#returning-a-view-versus-a-copy\n",
      "  after removing the cwd from sys.path.\n"
     ]
    }
   ],
   "source": [
    "df2.info()\n",
    "print(\"The number of dropped rows with duplicate values:\" + \" \" + str(len(df1) - len(df2)))\n",
    "\n",
    "df2['review_time']= pd.to_datetime(df2['review_time'], format=\"%H:%M:%S,%m/%d/%Y\")"
   ]
  },
  {
   "cell_type": "markdown",
   "metadata": {},
   "source": [
    "#### 2nd checkpoint\n",
    "\n",
    "1. df2: 22215 rows with duplicates were removed leaving us with a dataset of 1496263 reviews."
   ]
  },
  {
   "cell_type": "markdown",
   "metadata": {},
   "source": [
    "## 2. Overview of the dataset\n",
    "\n",
    "Since we want to find 2 beers worth recommending it is important to get a feel for the number of different beers, breweries, users, beer types and reviews in the dataset."
   ]
  },
  {
   "cell_type": "code",
   "execution_count": 9,
   "metadata": {},
   "outputs": [
    {
     "name": "stdout",
     "output_type": "stream",
     "text": [
      "The number of unique values in each column are:\n",
      "brewery_id               5210\n",
      "brewery_name             5135\n",
      "review_time           1488440\n",
      "review_overall             10\n",
      "review_aroma                9\n",
      "review_appearance          10\n",
      "review_profilename      32908\n",
      "beer_style                104\n",
      "review_palate               9\n",
      "review_taste                9\n",
      "beer_name               44075\n",
      "beer_abv                  529\n",
      "beer_beerid             48656\n",
      "dtype: int64\n"
     ]
    }
   ],
   "source": [
    "#get a distinct count of data in each column of interest using df.nunique()\n",
    "print(\"The number of unique values in each column are:\" + \"\\n\" + str(df2.nunique()))"
   ]
  },
  {
   "cell_type": "markdown",
   "metadata": {},
   "source": [
    "#### From the above output we can see the following:\n",
    "The number of unique breweries: 5135 <br>\n",
    "The number of unique reviewers: 32908 <br>\n",
    "The number of unique beer styles: 104 <br>\n",
    "The number of unique beers: 44075 <br>\n",
    "\n",
    "The other columns contain float data types of actual review ratings thus it is not useful to get unique values for these columns."
   ]
  },
  {
   "cell_type": "markdown",
   "metadata": {},
   "source": [
    "## 3. Describing the dataset"
   ]
  },
  {
   "cell_type": "code",
   "execution_count": 110,
   "metadata": {},
   "outputs": [
    {
     "data": {
      "image/png": "[encoded data removed]",
      "text/plain": [
       "<Figure size 864x864 with 9 Axes>"
      ]
     },
     "metadata": {
      "needs_background": "light"
     },
     "output_type": "display_data"
    }
   ],
   "source": [
    "#Get a feel for the data distribution - there seems to be a spike at reviews from 3.5 to 4.5\n",
    "df2.hist(figsize=(12,12))\n",
    "\n",
    "plt.show()"
   ]
  },
  {
   "cell_type": "code",
   "execution_count": 127,
   "metadata": {},
   "outputs": [
    {
     "data": {
      "image/png": "[encoded data removed]",
      "text/plain": [
       "<Figure size 1440x360 with 1 Axes>"
      ]
     },
     "metadata": {
      "needs_background": "light"
     },
     "output_type": "display_data"
    }
   ],
   "source": [
    "#time series to see how the ratings are spread over time \n",
    "group_by_date = df2[ [ 'review_time' ] ].groupby( df2[ 'review_time' ].dt.date ).agg( [ 'count' ] )\n",
    "plt.figure( figsize = ( 20, 5 ) )\n",
    "plt.plot( group_by_date.index, group_by_date.values)\n",
    "plt.xlabel( 'Date' )\n",
    "plt.ylabel( 'Number of reviews' )\n",
    "plt.title( 'Number of Reviews per Day' )\n",
    "plt.show()"
   ]
  },
  {
   "cell_type": "markdown",
   "metadata": {},
   "source": [
    "### Correlation will allow us to see if there are any relationships between attributes that may give us a better understanding\n",
    "\n",
    "From the below code we can see that review_taste is the most positively correlated to review_overall with 0.787 followed by palate, aroma and lasly appearance."
   ]
  },
  {
   "cell_type": "code",
   "execution_count": 128,
   "metadata": {},
   "outputs": [
    {
     "data": {
      "text/html": [
       "<div>\n",
       "<style scoped>\n",
       "    .dataframe tbody tr th:only-of-type {\n",
       "        vertical-align: middle;\n",
       "    }\n",
       "\n",
       "    .dataframe tbody tr th {\n",
       "        vertical-align: top;\n",
       "    }\n",
       "\n",
       "    .dataframe thead th {\n",
       "        text-align: right;\n",
       "    }\n",
       "</style>\n",
       "<table border=\"1\" class=\"dataframe\">\n",
       "  <thead>\n",
       "    <tr style=\"text-align: right;\">\n",
       "      <th></th>\n",
       "      <th>brewery_id</th>\n",
       "      <th>review_overall</th>\n",
       "      <th>review_aroma</th>\n",
       "      <th>review_appearance</th>\n",
       "      <th>review_palate</th>\n",
       "      <th>review_taste</th>\n",
       "      <th>beer_abv</th>\n",
       "      <th>beer_beerid</th>\n",
       "    </tr>\n",
       "  </thead>\n",
       "  <tbody>\n",
       "    <tr>\n",
       "      <td>brewery_id</td>\n",
       "      <td>1.000000</td>\n",
       "      <td>-0.007950</td>\n",
       "      <td>0.022347</td>\n",
       "      <td>0.004685</td>\n",
       "      <td>0.001428</td>\n",
       "      <td>-0.000066</td>\n",
       "      <td>0.064243</td>\n",
       "      <td>0.418847</td>\n",
       "    </tr>\n",
       "    <tr>\n",
       "      <td>review_overall</td>\n",
       "      <td>-0.007950</td>\n",
       "      <td>1.000000</td>\n",
       "      <td>0.612798</td>\n",
       "      <td>0.498496</td>\n",
       "      <td>0.698947</td>\n",
       "      <td>0.787350</td>\n",
       "      <td>0.138362</td>\n",
       "      <td>0.004331</td>\n",
       "    </tr>\n",
       "    <tr>\n",
       "      <td>review_aroma</td>\n",
       "      <td>0.022347</td>\n",
       "      <td>0.612798</td>\n",
       "      <td>1.000000</td>\n",
       "      <td>0.558874</td>\n",
       "      <td>0.614575</td>\n",
       "      <td>0.714501</td>\n",
       "      <td>0.332326</td>\n",
       "      <td>0.079676</td>\n",
       "    </tr>\n",
       "    <tr>\n",
       "      <td>review_appearance</td>\n",
       "      <td>0.004685</td>\n",
       "      <td>0.498496</td>\n",
       "      <td>0.558874</td>\n",
       "      <td>1.000000</td>\n",
       "      <td>0.564295</td>\n",
       "      <td>0.544277</td>\n",
       "      <td>0.263707</td>\n",
       "      <td>0.057265</td>\n",
       "    </tr>\n",
       "    <tr>\n",
       "      <td>review_palate</td>\n",
       "      <td>0.001428</td>\n",
       "      <td>0.698947</td>\n",
       "      <td>0.614575</td>\n",
       "      <td>0.564295</td>\n",
       "      <td>1.000000</td>\n",
       "      <td>0.732024</td>\n",
       "      <td>0.286397</td>\n",
       "      <td>0.045960</td>\n",
       "    </tr>\n",
       "    <tr>\n",
       "      <td>review_taste</td>\n",
       "      <td>-0.000066</td>\n",
       "      <td>0.787350</td>\n",
       "      <td>0.714501</td>\n",
       "      <td>0.544277</td>\n",
       "      <td>0.732024</td>\n",
       "      <td>1.000000</td>\n",
       "      <td>0.290543</td>\n",
       "      <td>0.031834</td>\n",
       "    </tr>\n",
       "    <tr>\n",
       "      <td>beer_abv</td>\n",
       "      <td>0.064243</td>\n",
       "      <td>0.138362</td>\n",
       "      <td>0.332326</td>\n",
       "      <td>0.263707</td>\n",
       "      <td>0.286397</td>\n",
       "      <td>0.290543</td>\n",
       "      <td>1.000000</td>\n",
       "      <td>0.201023</td>\n",
       "    </tr>\n",
       "    <tr>\n",
       "      <td>beer_beerid</td>\n",
       "      <td>0.418847</td>\n",
       "      <td>0.004331</td>\n",
       "      <td>0.079676</td>\n",
       "      <td>0.057265</td>\n",
       "      <td>0.045960</td>\n",
       "      <td>0.031834</td>\n",
       "      <td>0.201023</td>\n",
       "      <td>1.000000</td>\n",
       "    </tr>\n",
       "  </tbody>\n",
       "</table>\n",
       "</div>"
      ],
      "text/plain": [
       "                   brewery_id  review_overall  review_aroma  \\\n",
       "brewery_id           1.000000       -0.007950      0.022347   \n",
       "review_overall      -0.007950        1.000000      0.612798   \n",
       "review_aroma         0.022347        0.612798      1.000000   \n",
       "review_appearance    0.004685        0.498496      0.558874   \n",
       "review_palate        0.001428        0.698947      0.614575   \n",
       "review_taste        -0.000066        0.787350      0.714501   \n",
       "beer_abv             0.064243        0.138362      0.332326   \n",
       "beer_beerid          0.418847        0.004331      0.079676   \n",
       "\n",
       "                   review_appearance  review_palate  review_taste  beer_abv  \\\n",
       "brewery_id                  0.004685       0.001428     -0.000066  0.064243   \n",
       "review_overall              0.498496       0.698947      0.787350  0.138362   \n",
       "review_aroma                0.558874       0.614575      0.714501  0.332326   \n",
       "review_appearance           1.000000       0.564295      0.544277  0.263707   \n",
       "review_palate               0.564295       1.000000      0.732024  0.286397   \n",
       "review_taste                0.544277       0.732024      1.000000  0.290543   \n",
       "beer_abv                    0.263707       0.286397      0.290543  1.000000   \n",
       "beer_beerid                 0.057265       0.045960      0.031834  0.201023   \n",
       "\n",
       "                   beer_beerid  \n",
       "brewery_id            0.418847  \n",
       "review_overall        0.004331  \n",
       "review_aroma          0.079676  \n",
       "review_appearance     0.057265  \n",
       "review_palate         0.045960  \n",
       "review_taste          0.031834  \n",
       "beer_abv              0.201023  \n",
       "beer_beerid           1.000000  "
      ]
     },
     "execution_count": 128,
     "metadata": {},
     "output_type": "execute_result"
    }
   ],
   "source": [
    "df2.corr(method ='pearson')"
   ]
  },
  {
   "cell_type": "code",
   "execution_count": 10,
   "metadata": {},
   "outputs": [
    {
     "data": {
      "text/html": [
       "<div>\n",
       "<style scoped>\n",
       "    .dataframe tbody tr th:only-of-type {\n",
       "        vertical-align: middle;\n",
       "    }\n",
       "\n",
       "    .dataframe tbody tr th {\n",
       "        vertical-align: top;\n",
       "    }\n",
       "\n",
       "    .dataframe thead th {\n",
       "        text-align: right;\n",
       "    }\n",
       "</style>\n",
       "<table border=\"1\" class=\"dataframe\">\n",
       "  <thead>\n",
       "    <tr style=\"text-align: right;\">\n",
       "      <th></th>\n",
       "      <th>brewery_name</th>\n",
       "      <th>review_profilename</th>\n",
       "      <th>beer_style</th>\n",
       "      <th>beer_name</th>\n",
       "    </tr>\n",
       "  </thead>\n",
       "  <tbody>\n",
       "    <tr>\n",
       "      <td>count</td>\n",
       "      <td>1496263</td>\n",
       "      <td>1496263</td>\n",
       "      <td>1496263</td>\n",
       "      <td>1496263</td>\n",
       "    </tr>\n",
       "    <tr>\n",
       "      <td>unique</td>\n",
       "      <td>5135</td>\n",
       "      <td>32908</td>\n",
       "      <td>104</td>\n",
       "      <td>44075</td>\n",
       "    </tr>\n",
       "    <tr>\n",
       "      <td>top</td>\n",
       "      <td>Boston Beer Company (Samuel Adams)</td>\n",
       "      <td>northyorksammy</td>\n",
       "      <td>American IPA</td>\n",
       "      <td>90 Minute IPA</td>\n",
       "    </tr>\n",
       "    <tr>\n",
       "      <td>freq</td>\n",
       "      <td>38533</td>\n",
       "      <td>5177</td>\n",
       "      <td>110425</td>\n",
       "      <td>3206</td>\n",
       "    </tr>\n",
       "  </tbody>\n",
       "</table>\n",
       "</div>"
      ],
      "text/plain": [
       "                              brewery_name review_profilename    beer_style  \\\n",
       "count                              1496263            1496263       1496263   \n",
       "unique                                5135              32908           104   \n",
       "top     Boston Beer Company (Samuel Adams)     northyorksammy  American IPA   \n",
       "freq                                 38533               5177        110425   \n",
       "\n",
       "            beer_name  \n",
       "count         1496263  \n",
       "unique          44075  \n",
       "top     90 Minute IPA  \n",
       "freq             3206  "
      ]
     },
     "execution_count": 10,
     "metadata": {},
     "output_type": "execute_result"
    }
   ],
   "source": [
    "#first we describe the string data and find the values that occur most frequently\n",
    "df2.describe(include = 'object')"
   ]
  },
  {
   "cell_type": "code",
   "execution_count": 11,
   "metadata": {},
   "outputs": [
    {
     "data": {
      "text/html": [
       "<div>\n",
       "<style scoped>\n",
       "    .dataframe tbody tr th:only-of-type {\n",
       "        vertical-align: middle;\n",
       "    }\n",
       "\n",
       "    .dataframe tbody tr th {\n",
       "        vertical-align: top;\n",
       "    }\n",
       "\n",
       "    .dataframe thead th {\n",
       "        text-align: right;\n",
       "    }\n",
       "</style>\n",
       "<table border=\"1\" class=\"dataframe\">\n",
       "  <thead>\n",
       "    <tr style=\"text-align: right;\">\n",
       "      <th></th>\n",
       "      <th>brewery_id</th>\n",
       "      <th>review_time</th>\n",
       "      <th>review_overall</th>\n",
       "      <th>review_aroma</th>\n",
       "      <th>review_appearance</th>\n",
       "      <th>review_palate</th>\n",
       "      <th>review_taste</th>\n",
       "      <th>beer_abv</th>\n",
       "      <th>beer_beerid</th>\n",
       "    </tr>\n",
       "  </thead>\n",
       "  <tbody>\n",
       "    <tr>\n",
       "      <td>count</td>\n",
       "      <td>1.496263e+06</td>\n",
       "      <td>1.496263e+06</td>\n",
       "      <td>1.496263e+06</td>\n",
       "      <td>1.496263e+06</td>\n",
       "      <td>1.496263e+06</td>\n",
       "      <td>1.496263e+06</td>\n",
       "      <td>1.496263e+06</td>\n",
       "      <td>1.496263e+06</td>\n",
       "      <td>1.496263e+06</td>\n",
       "    </tr>\n",
       "    <tr>\n",
       "      <td>mean</td>\n",
       "      <td>3.068146e+03</td>\n",
       "      <td>1.225593e+09</td>\n",
       "      <td>3.822387e+00</td>\n",
       "      <td>3.745287e+00</td>\n",
       "      <td>3.849503e+00</td>\n",
       "      <td>3.752557e+00</td>\n",
       "      <td>3.802741e+00</td>\n",
       "      <td>7.045868e+00</td>\n",
       "      <td>2.143449e+04</td>\n",
       "    </tr>\n",
       "    <tr>\n",
       "      <td>std</td>\n",
       "      <td>5.540524e+03</td>\n",
       "      <td>7.572180e+07</td>\n",
       "      <td>7.178374e-01</td>\n",
       "      <td>6.956705e-01</td>\n",
       "      <td>6.145845e-01</td>\n",
       "      <td>6.796260e-01</td>\n",
       "      <td>7.291700e-01</td>\n",
       "      <td>2.325997e+00</td>\n",
       "      <td>2.179831e+04</td>\n",
       "    </tr>\n",
       "    <tr>\n",
       "      <td>min</td>\n",
       "      <td>1.000000e+00</td>\n",
       "      <td>8.843904e+08</td>\n",
       "      <td>0.000000e+00</td>\n",
       "      <td>1.000000e+00</td>\n",
       "      <td>0.000000e+00</td>\n",
       "      <td>1.000000e+00</td>\n",
       "      <td>1.000000e+00</td>\n",
       "      <td>1.000000e-02</td>\n",
       "      <td>5.000000e+00</td>\n",
       "    </tr>\n",
       "    <tr>\n",
       "      <td>25%</td>\n",
       "      <td>1.410000e+02</td>\n",
       "      <td>1.175915e+09</td>\n",
       "      <td>3.500000e+00</td>\n",
       "      <td>3.500000e+00</td>\n",
       "      <td>3.500000e+00</td>\n",
       "      <td>3.500000e+00</td>\n",
       "      <td>3.500000e+00</td>\n",
       "      <td>5.200000e+00</td>\n",
       "      <td>1.655000e+03</td>\n",
       "    </tr>\n",
       "    <tr>\n",
       "      <td>50%</td>\n",
       "      <td>4.140000e+02</td>\n",
       "      <td>1.240608e+09</td>\n",
       "      <td>4.000000e+00</td>\n",
       "      <td>4.000000e+00</td>\n",
       "      <td>4.000000e+00</td>\n",
       "      <td>4.000000e+00</td>\n",
       "      <td>4.000000e+00</td>\n",
       "      <td>6.500000e+00</td>\n",
       "      <td>1.289500e+04</td>\n",
       "    </tr>\n",
       "    <tr>\n",
       "      <td>75%</td>\n",
       "      <td>2.250000e+03</td>\n",
       "      <td>1.289257e+09</td>\n",
       "      <td>4.500000e+00</td>\n",
       "      <td>4.000000e+00</td>\n",
       "      <td>4.000000e+00</td>\n",
       "      <td>4.000000e+00</td>\n",
       "      <td>4.500000e+00</td>\n",
       "      <td>8.500000e+00</td>\n",
       "      <td>3.927300e+04</td>\n",
       "    </tr>\n",
       "    <tr>\n",
       "      <td>max</td>\n",
       "      <td>2.800300e+04</td>\n",
       "      <td>1.326285e+09</td>\n",
       "      <td>5.000000e+00</td>\n",
       "      <td>5.000000e+00</td>\n",
       "      <td>5.000000e+00</td>\n",
       "      <td>5.000000e+00</td>\n",
       "      <td>5.000000e+00</td>\n",
       "      <td>5.770000e+01</td>\n",
       "      <td>7.731600e+04</td>\n",
       "    </tr>\n",
       "  </tbody>\n",
       "</table>\n",
       "</div>"
      ],
      "text/plain": [
       "         brewery_id   review_time  review_overall  review_aroma  \\\n",
       "count  1.496263e+06  1.496263e+06    1.496263e+06  1.496263e+06   \n",
       "mean   3.068146e+03  1.225593e+09    3.822387e+00  3.745287e+00   \n",
       "std    5.540524e+03  7.572180e+07    7.178374e-01  6.956705e-01   \n",
       "min    1.000000e+00  8.843904e+08    0.000000e+00  1.000000e+00   \n",
       "25%    1.410000e+02  1.175915e+09    3.500000e+00  3.500000e+00   \n",
       "50%    4.140000e+02  1.240608e+09    4.000000e+00  4.000000e+00   \n",
       "75%    2.250000e+03  1.289257e+09    4.500000e+00  4.000000e+00   \n",
       "max    2.800300e+04  1.326285e+09    5.000000e+00  5.000000e+00   \n",
       "\n",
       "       review_appearance  review_palate  review_taste      beer_abv  \\\n",
       "count       1.496263e+06   1.496263e+06  1.496263e+06  1.496263e+06   \n",
       "mean        3.849503e+00   3.752557e+00  3.802741e+00  7.045868e+00   \n",
       "std         6.145845e-01   6.796260e-01  7.291700e-01  2.325997e+00   \n",
       "min         0.000000e+00   1.000000e+00  1.000000e+00  1.000000e-02   \n",
       "25%         3.500000e+00   3.500000e+00  3.500000e+00  5.200000e+00   \n",
       "50%         4.000000e+00   4.000000e+00  4.000000e+00  6.500000e+00   \n",
       "75%         4.000000e+00   4.000000e+00  4.500000e+00  8.500000e+00   \n",
       "max         5.000000e+00   5.000000e+00  5.000000e+00  5.770000e+01   \n",
       "\n",
       "        beer_beerid  \n",
       "count  1.496263e+06  \n",
       "mean   2.143449e+04  \n",
       "std    2.179831e+04  \n",
       "min    5.000000e+00  \n",
       "25%    1.655000e+03  \n",
       "50%    1.289500e+04  \n",
       "75%    3.927300e+04  \n",
       "max    7.731600e+04  "
      ]
     },
     "execution_count": 11,
     "metadata": {},
     "output_type": "execute_result"
    }
   ],
   "source": [
    "#now we describe the numerical data which includes all the reviews\n",
    "df2.describe()"
   ]
  },
  {
   "cell_type": "markdown",
   "metadata": {},
   "source": [
    "## 4. Visualising the data"
   ]
  },
  {
   "cell_type": "markdown",
   "metadata": {},
   "source": [
    "### The top 10 beers"
   ]
  },
  {
   "cell_type": "code",
   "execution_count": 12,
   "metadata": {
    "scrolled": true
   },
   "outputs": [
    {
     "data": {
      "text/plain": [
       "90 Minute IPA                                 3206\n",
       "Old Rasputin Russian Imperial Stout           3038\n",
       "Sierra Nevada Celebration Ale                 2929\n",
       "Stone Ruination IPA                           2644\n",
       "Arrogant Bastard Ale                          2633\n",
       "Two Hearted Ale                               2631\n",
       "Stone IPA (India Pale Ale)                    2526\n",
       "Sierra Nevada Pale Ale                        2526\n",
       "La Fin Du Monde                               2480\n",
       "Duvel                                         2448\n",
       "Founders Breakfast Stout                      2443\n",
       "Sierra Nevada Bigfoot Barleywine Style Ale    2443\n",
       "Pliny The Elder                               2432\n",
       "60 Minute IPA                                 2429\n",
       "Brooklyn Black Chocolate Stout                2405\n",
       "Storm King Stout                              2392\n",
       "Bell's Hopslam Ale                            2347\n",
       "Samuel Adams Boston Lager                     2347\n",
       "Stone Imperial Russian Stout                  2285\n",
       "HopDevil Ale                                  2239\n",
       "Name: beer_name, dtype: int64"
      ]
     },
     "execution_count": 12,
     "metadata": {},
     "output_type": "execute_result"
    }
   ],
   "source": [
    "df2['beer_name'].value_counts()[:20]"
   ]
  },
  {
   "cell_type": "code",
   "execution_count": 13,
   "metadata": {
    "scrolled": true
   },
   "outputs": [
    {
     "data": {
      "image/png": "[encoded data removed]",
      "text/plain": [
       "<Figure size 432x288 with 1 Axes>"
      ]
     },
     "metadata": {
      "needs_background": "light"
     },
     "output_type": "display_data"
    }
   ],
   "source": [
    "top_10_beers = df2['beer_name'].value_counts()[:10]\n",
    "top_10_beers.plot(kind='barh')\n",
    "plt.show()"
   ]
  },
  {
   "cell_type": "code",
   "execution_count": 14,
   "metadata": {
    "scrolled": false
   },
   "outputs": [
    {
     "data": {
      "image/png": "[encoded data removed]",
      "text/plain": [
       "<Figure size 720x360 with 1 Axes>"
      ]
     },
     "metadata": {
      "needs_background": "light"
     },
     "output_type": "display_data"
    }
   ],
   "source": [
    "plt.figure(figsize=(10,5))\n",
    "top_10_beerplot = sns.barplot(top_10_beers.index, top_10_beers.values, alpha=0.8)\n",
    "for item in top_10_beerplot.get_xticklabels():\n",
    "    item.set_rotation(75)\n",
    "plt.title('The top 10 beers based on reviews')\n",
    "plt.ylabel('Number of reviews', fontsize=12)\n",
    "plt.xlabel('Beer names', fontsize=12)\n",
    "plt.show()"
   ]
  },
  {
   "cell_type": "markdown",
   "metadata": {},
   "source": [
    "### The top 10 beer styles"
   ]
  },
  {
   "cell_type": "code",
   "execution_count": 15,
   "metadata": {},
   "outputs": [
    {
     "data": {
      "image/png": "[encoded data removed]",
      "text/plain": [
       "<Figure size 432x288 with 1 Axes>"
      ]
     },
     "metadata": {
      "needs_background": "light"
     },
     "output_type": "display_data"
    }
   ],
   "source": [
    "top_10_beertypes = df2['beer_style'].value_counts()[:10]\n",
    "top_10_beertypes.plot(kind='barh')\n",
    "plt.show()"
   ]
  },
  {
   "cell_type": "code",
   "execution_count": 16,
   "metadata": {},
   "outputs": [
    {
     "data": {
      "image/png": "[encoded data removed]",
      "text/plain": [
       "<Figure size 720x360 with 1 Axes>"
      ]
     },
     "metadata": {
      "needs_background": "light"
     },
     "output_type": "display_data"
    }
   ],
   "source": [
    "plt.figure(figsize=(10,5))\n",
    "top_10_styleplot = sns.barplot(top_10_beertypes.index, top_10_beertypes.values, alpha=0.8)\n",
    "for item in top_10_styleplot.get_xticklabels():\n",
    "    item.set_rotation(75)\n",
    "plt.title('The top 10 beer styles based on reviews')\n",
    "plt.ylabel('Number of reviews', fontsize=12)\n",
    "plt.xlabel('Beer styles', fontsize=12)\n",
    "plt.show()"
   ]
  },
  {
   "cell_type": "markdown",
   "metadata": {},
   "source": [
    "### The top 10 breweries"
   ]
  },
  {
   "cell_type": "code",
   "execution_count": 17,
   "metadata": {},
   "outputs": [
    {
     "data": {
      "image/png": "[encoded data removed]",
      "text/plain": [
       "<Figure size 432x288 with 1 Axes>"
      ]
     },
     "metadata": {
      "needs_background": "light"
     },
     "output_type": "display_data"
    }
   ],
   "source": [
    "top_10_breweries = df2['brewery_name'].value_counts()[:10]\n",
    "top_10_breweries.plot(kind='barh')\n",
    "plt.show()"
   ]
  },
  {
   "cell_type": "code",
   "execution_count": 18,
   "metadata": {},
   "outputs": [
    {
     "data": {
      "image/png": "[encoded data removed]",
      "text/plain": [
       "<Figure size 720x360 with 1 Axes>"
      ]
     },
     "metadata": {
      "needs_background": "light"
     },
     "output_type": "display_data"
    }
   ],
   "source": [
    "plt.figure(figsize=(10,5))\n",
    "top_10_breweryplot = sns.barplot(top_10_breweries.index, top_10_breweries.values, alpha=0.8)\n",
    "for item in top_10_breweryplot.get_xticklabels():\n",
    "    item.set_rotation(75)\n",
    "plt.title('The top 10 breweries based on reviews')\n",
    "plt.ylabel('Number of reviews', fontsize=12)\n",
    "plt.xlabel('Breweries', fontsize=12)\n",
    "plt.show()"
   ]
  },
  {
   "cell_type": "markdown",
   "metadata": {},
   "source": [
    "### Beers with the highest average ratings based on overall reviews"
   ]
  },
  {
   "cell_type": "code",
   "execution_count": 92,
   "metadata": {},
   "outputs": [
    {
     "data": {
      "text/html": [
       "<div>\n",
       "<style scoped>\n",
       "    .dataframe tbody tr th:only-of-type {\n",
       "        vertical-align: middle;\n",
       "    }\n",
       "\n",
       "    .dataframe tbody tr th {\n",
       "        vertical-align: top;\n",
       "    }\n",
       "\n",
       "    .dataframe thead th {\n",
       "        text-align: right;\n",
       "    }\n",
       "</style>\n",
       "<table border=\"1\" class=\"dataframe\">\n",
       "  <thead>\n",
       "    <tr style=\"text-align: right;\">\n",
       "      <th></th>\n",
       "      <th>review_overall</th>\n",
       "    </tr>\n",
       "    <tr>\n",
       "      <th>beer_name</th>\n",
       "      <th></th>\n",
       "    </tr>\n",
       "  </thead>\n",
       "  <tbody>\n",
       "    <tr>\n",
       "      <td>Kringle's Imperial Stout</td>\n",
       "      <td>5.0</td>\n",
       "    </tr>\n",
       "    <tr>\n",
       "      <td>Emerald City Cream Ale</td>\n",
       "      <td>5.0</td>\n",
       "    </tr>\n",
       "    <tr>\n",
       "      <td>Renæssance 2006</td>\n",
       "      <td>5.0</td>\n",
       "    </tr>\n",
       "    <tr>\n",
       "      <td>C4 Red Ale</td>\n",
       "      <td>5.0</td>\n",
       "    </tr>\n",
       "    <tr>\n",
       "      <td>Wild Bill's Session IPA</td>\n",
       "      <td>5.0</td>\n",
       "    </tr>\n",
       "    <tr>\n",
       "      <td>961 IPA (India Pale Ale)</td>\n",
       "      <td>5.0</td>\n",
       "    </tr>\n",
       "    <tr>\n",
       "      <td>Galaxy Golden Ale</td>\n",
       "      <td>5.0</td>\n",
       "    </tr>\n",
       "    <tr>\n",
       "      <td>New World IPA</td>\n",
       "      <td>5.0</td>\n",
       "    </tr>\n",
       "    <tr>\n",
       "      <td>Neuvaine</td>\n",
       "      <td>5.0</td>\n",
       "    </tr>\n",
       "    <tr>\n",
       "      <td>Neustadt 180</td>\n",
       "      <td>5.0</td>\n",
       "    </tr>\n",
       "  </tbody>\n",
       "</table>\n",
       "</div>"
      ],
      "text/plain": [
       "                          review_overall\n",
       "beer_name                               \n",
       "Kringle's Imperial Stout             5.0\n",
       "Emerald City Cream Ale               5.0\n",
       "Renæssance 2006                      5.0\n",
       "C4 Red Ale                           5.0\n",
       "Wild Bill's Session IPA              5.0\n",
       "961 IPA (India Pale Ale)             5.0\n",
       "Galaxy Golden Ale                    5.0\n",
       "New World IPA                        5.0\n",
       "Neuvaine                             5.0\n",
       "Neustadt 180                         5.0"
      ]
     },
     "execution_count": 92,
     "metadata": {},
     "output_type": "execute_result"
    }
   ],
   "source": [
    "beer_groups = df2[['beer_name', 'review_overall']].groupby('beer_name').agg('mean')\n",
    "bgdf = beer_groups.sort_values(by='review_overall', ascending=False).head(10)\n",
    "bgdf"
   ]
  },
  {
   "cell_type": "code",
   "execution_count": 94,
   "metadata": {},
   "outputs": [
    {
     "data": {
      "image/png": "[encoded data removed]",
      "text/plain": [
       "<Figure size 720x360 with 1 Axes>"
      ]
     },
     "metadata": {
      "needs_background": "light"
     },
     "output_type": "display_data"
    }
   ],
   "source": [
    "plt.figure(figsize=(10,5))\n",
    "beer_groups_plot = sns.barplot(x = bgdf.index, y = bgdf.review_overall, alpha=0.8)\n",
    "for item in beer_groups_plot.get_xticklabels():\n",
    "    item.set_rotation(75)\n",
    "plt.title('The top 5 beers based on average overall review')\n",
    "plt.ylabel('Average reviews', fontsize=12)\n",
    "plt.xlabel('Beer name', fontsize=12)\n",
    "plt.show()"
   ]
  },
  {
   "cell_type": "code",
   "execution_count": 21,
   "metadata": {},
   "outputs": [
    {
     "data": {
      "text/plain": [
       "<matplotlib.axes._subplots.AxesSubplot at 0x131ab6f0>"
      ]
     },
     "execution_count": 21,
     "metadata": {},
     "output_type": "execute_result"
    },
    {
     "data": {
      "image/png": "[encoded data removed]",
      "text/plain": [
       "<Figure size 432x288 with 1 Axes>"
      ]
     },
     "metadata": {
      "needs_background": "light"
     },
     "output_type": "display_data"
    }
   ],
   "source": [
    "bgdf.plot(kind='barh')"
   ]
  },
  {
   "cell_type": "markdown",
   "metadata": {},
   "source": [
    "## 5. Narrowing it down to two glorious beers! - exporting so visualisations can be done in Tableau"
   ]
  },
  {
   "cell_type": "code",
   "execution_count": 95,
   "metadata": {},
   "outputs": [],
   "source": [
    "dfgmask = df2['beer_name'].isin([\"Kringle's Imperial Stout\",'Emerald City Cream Ale','Renæssance 2006','C4 Red Ale',\"Wild Bill's Session IPA\"])"
   ]
  },
  {
   "cell_type": "code",
   "execution_count": 96,
   "metadata": {},
   "outputs": [
    {
     "data": {
      "text/html": [
       "<div>\n",
       "<style scoped>\n",
       "    .dataframe tbody tr th:only-of-type {\n",
       "        vertical-align: middle;\n",
       "    }\n",
       "\n",
       "    .dataframe tbody tr th {\n",
       "        vertical-align: top;\n",
       "    }\n",
       "\n",
       "    .dataframe thead th {\n",
       "        text-align: right;\n",
       "    }\n",
       "</style>\n",
       "<table border=\"1\" class=\"dataframe\">\n",
       "  <thead>\n",
       "    <tr style=\"text-align: right;\">\n",
       "      <th></th>\n",
       "      <th>brewery_id</th>\n",
       "      <th>brewery_name</th>\n",
       "      <th>review_time</th>\n",
       "      <th>review_overall</th>\n",
       "      <th>review_aroma</th>\n",
       "      <th>review_appearance</th>\n",
       "      <th>review_profilename</th>\n",
       "      <th>beer_style</th>\n",
       "      <th>review_palate</th>\n",
       "      <th>review_taste</th>\n",
       "      <th>beer_name</th>\n",
       "      <th>beer_abv</th>\n",
       "      <th>beer_beerid</th>\n",
       "    </tr>\n",
       "  </thead>\n",
       "  <tbody>\n",
       "    <tr>\n",
       "      <td>632576</td>\n",
       "      <td>1112</td>\n",
       "      <td>Little Apple Brewing Company</td>\n",
       "      <td>1043400255</td>\n",
       "      <td>5.0</td>\n",
       "      <td>3.0</td>\n",
       "      <td>3.5</td>\n",
       "      <td>marc77</td>\n",
       "      <td>Russian Imperial Stout</td>\n",
       "      <td>3.0</td>\n",
       "      <td>3.5</td>\n",
       "      <td>Kringle's Imperial Stout</td>\n",
       "      <td>9.2</td>\n",
       "      <td>8222</td>\n",
       "    </tr>\n",
       "    <tr>\n",
       "      <td>766212</td>\n",
       "      <td>4410</td>\n",
       "      <td>Back Street Brewery</td>\n",
       "      <td>1287375541</td>\n",
       "      <td>5.0</td>\n",
       "      <td>4.5</td>\n",
       "      <td>4.0</td>\n",
       "      <td>Overlord</td>\n",
       "      <td>American IPA</td>\n",
       "      <td>5.0</td>\n",
       "      <td>4.0</td>\n",
       "      <td>Wild Bill's Session IPA</td>\n",
       "      <td>4.8</td>\n",
       "      <td>62709</td>\n",
       "    </tr>\n",
       "    <tr>\n",
       "      <td>1069616</td>\n",
       "      <td>456</td>\n",
       "      <td>Trinity Brewhouse</td>\n",
       "      <td>1313445424</td>\n",
       "      <td>5.0</td>\n",
       "      <td>4.5</td>\n",
       "      <td>4.0</td>\n",
       "      <td>taez555</td>\n",
       "      <td>American Amber / Red Ale</td>\n",
       "      <td>4.5</td>\n",
       "      <td>5.0</td>\n",
       "      <td>C4 Red Ale</td>\n",
       "      <td>7.5</td>\n",
       "      <td>72131</td>\n",
       "    </tr>\n",
       "    <tr>\n",
       "      <td>1430764</td>\n",
       "      <td>10799</td>\n",
       "      <td>Ham's Restaurant &amp; Brewhouse</td>\n",
       "      <td>1237246782</td>\n",
       "      <td>5.0</td>\n",
       "      <td>4.0</td>\n",
       "      <td>3.5</td>\n",
       "      <td>cvstrickland</td>\n",
       "      <td>Cream Ale</td>\n",
       "      <td>4.0</td>\n",
       "      <td>4.0</td>\n",
       "      <td>Emerald City Cream Ale</td>\n",
       "      <td>5.8</td>\n",
       "      <td>48501</td>\n",
       "    </tr>\n",
       "    <tr>\n",
       "      <td>1476347</td>\n",
       "      <td>11403</td>\n",
       "      <td>Fur Bryghus</td>\n",
       "      <td>1189269522</td>\n",
       "      <td>5.0</td>\n",
       "      <td>4.5</td>\n",
       "      <td>4.5</td>\n",
       "      <td>bark</td>\n",
       "      <td>English Brown Ale</td>\n",
       "      <td>4.0</td>\n",
       "      <td>4.5</td>\n",
       "      <td>Renæssance 2006</td>\n",
       "      <td>6.2</td>\n",
       "      <td>38557</td>\n",
       "    </tr>\n",
       "  </tbody>\n",
       "</table>\n",
       "</div>"
      ],
      "text/plain": [
       "         brewery_id                  brewery_name  review_time  \\\n",
       "632576         1112  Little Apple Brewing Company   1043400255   \n",
       "766212         4410           Back Street Brewery   1287375541   \n",
       "1069616         456             Trinity Brewhouse   1313445424   \n",
       "1430764       10799  Ham's Restaurant & Brewhouse   1237246782   \n",
       "1476347       11403                   Fur Bryghus   1189269522   \n",
       "\n",
       "         review_overall  review_aroma  review_appearance review_profilename  \\\n",
       "632576              5.0           3.0                3.5             marc77   \n",
       "766212              5.0           4.5                4.0           Overlord   \n",
       "1069616             5.0           4.5                4.0            taez555   \n",
       "1430764             5.0           4.0                3.5       cvstrickland   \n",
       "1476347             5.0           4.5                4.5               bark   \n",
       "\n",
       "                       beer_style  review_palate  review_taste  \\\n",
       "632576     Russian Imperial Stout            3.0           3.5   \n",
       "766212               American IPA            5.0           4.0   \n",
       "1069616  American Amber / Red Ale            4.5           5.0   \n",
       "1430764                 Cream Ale            4.0           4.0   \n",
       "1476347         English Brown Ale            4.0           4.5   \n",
       "\n",
       "                        beer_name  beer_abv  beer_beerid  \n",
       "632576   Kringle's Imperial Stout       9.2         8222  \n",
       "766212    Wild Bill's Session IPA       4.8        62709  \n",
       "1069616                C4 Red Ale       7.5        72131  \n",
       "1430764    Emerald City Cream Ale       5.8        48501  \n",
       "1476347           Renæssance 2006       6.2        38557  "
      ]
     },
     "execution_count": 96,
     "metadata": {},
     "output_type": "execute_result"
    }
   ],
   "source": [
    "df2[dfgmask]"
   ]
  },
  {
   "cell_type": "markdown",
   "metadata": {},
   "source": [
    "### It has become apparent that the top 5 beers with the highest average rating do not have more than one review which is misleading. In order to select a highly rated beer it needs to be free from bias by having a larger number of reviews with a certain percentage of significance.\n",
    "\n",
    "### In order to test this, the count of overall reviews is taken to be greater than 1000 and the mean > 4.5"
   ]
  },
  {
   "cell_type": "code",
   "execution_count": 99,
   "metadata": {},
   "outputs": [],
   "source": [
    "beer_groups1 = df2[['beer_name', 'review_overall']].groupby('beer_name').agg(['count','mean'])\n",
    "mask1 = beer_groups1['review_overall', 'mean'] > 4.5\n",
    "mask2 = beer_groups1['review_overall', 'count'] > 1000\n",
    "mask3 = pd.concat((mask1, mask2), axis=1).all(axis=1)"
   ]
  },
  {
   "cell_type": "code",
   "execution_count": 100,
   "metadata": {},
   "outputs": [
    {
     "data": {
      "text/html": [
       "<div>\n",
       "<style scoped>\n",
       "    .dataframe tbody tr th:only-of-type {\n",
       "        vertical-align: middle;\n",
       "    }\n",
       "\n",
       "    .dataframe tbody tr th {\n",
       "        vertical-align: top;\n",
       "    }\n",
       "\n",
       "    .dataframe thead tr th {\n",
       "        text-align: left;\n",
       "    }\n",
       "\n",
       "    .dataframe thead tr:last-of-type th {\n",
       "        text-align: right;\n",
       "    }\n",
       "</style>\n",
       "<table border=\"1\" class=\"dataframe\">\n",
       "  <thead>\n",
       "    <tr>\n",
       "      <th></th>\n",
       "      <th colspan=\"2\" halign=\"left\">review_overall</th>\n",
       "    </tr>\n",
       "    <tr>\n",
       "      <th></th>\n",
       "      <th>count</th>\n",
       "      <th>mean</th>\n",
       "    </tr>\n",
       "    <tr>\n",
       "      <th>beer_name</th>\n",
       "      <th></th>\n",
       "      <th></th>\n",
       "    </tr>\n",
       "  </thead>\n",
       "  <tbody>\n",
       "    <tr>\n",
       "      <td>10th Anniversary Strong Belgian</td>\n",
       "      <td>1</td>\n",
       "      <td>5.000000</td>\n",
       "    </tr>\n",
       "    <tr>\n",
       "      <td>2005 Grand Cru</td>\n",
       "      <td>1</td>\n",
       "      <td>5.000000</td>\n",
       "    </tr>\n",
       "    <tr>\n",
       "      <td>2006 Barley Wine (Triple IPA)</td>\n",
       "      <td>1</td>\n",
       "      <td>5.000000</td>\n",
       "    </tr>\n",
       "    <tr>\n",
       "      <td>22 Porter</td>\n",
       "      <td>2</td>\n",
       "      <td>4.750000</td>\n",
       "    </tr>\n",
       "    <tr>\n",
       "      <td>3 Threads</td>\n",
       "      <td>1</td>\n",
       "      <td>5.000000</td>\n",
       "    </tr>\n",
       "    <tr>\n",
       "      <td>...</td>\n",
       "      <td>...</td>\n",
       "      <td>...</td>\n",
       "    </tr>\n",
       "    <tr>\n",
       "      <td>Ziguljovskoje Helles Bier</td>\n",
       "      <td>1</td>\n",
       "      <td>5.000000</td>\n",
       "    </tr>\n",
       "    <tr>\n",
       "      <td>Zombie Dust</td>\n",
       "      <td>383</td>\n",
       "      <td>4.507833</td>\n",
       "    </tr>\n",
       "    <tr>\n",
       "      <td>Zucker Esel Pils</td>\n",
       "      <td>3</td>\n",
       "      <td>4.833333</td>\n",
       "    </tr>\n",
       "    <tr>\n",
       "      <td>Zwiesel Löwentrunk</td>\n",
       "      <td>1</td>\n",
       "      <td>5.000000</td>\n",
       "    </tr>\n",
       "    <tr>\n",
       "      <td>Ølfabrikken Trippel</td>\n",
       "      <td>3</td>\n",
       "      <td>4.666667</td>\n",
       "    </tr>\n",
       "  </tbody>\n",
       "</table>\n",
       "<p>813 rows × 2 columns</p>\n",
       "</div>"
      ],
      "text/plain": [
       "                                review_overall          \n",
       "                                         count      mean\n",
       "beer_name                                               \n",
       "10th Anniversary Strong Belgian              1  5.000000\n",
       "2005 Grand Cru                               1  5.000000\n",
       "2006 Barley Wine (Triple IPA)                1  5.000000\n",
       "22 Porter                                    2  4.750000\n",
       "3 Threads                                    1  5.000000\n",
       "...                                        ...       ...\n",
       "Ziguljovskoje Helles Bier                    1  5.000000\n",
       "Zombie Dust                                383  4.507833\n",
       "Zucker Esel Pils                             3  4.833333\n",
       "Zwiesel Löwentrunk                           1  5.000000\n",
       "Ølfabrikken Trippel                          3  4.666667\n",
       "\n",
       "[813 rows x 2 columns]"
      ]
     },
     "execution_count": 100,
     "metadata": {},
     "output_type": "execute_result"
    }
   ],
   "source": [
    "beer_groups1[mask1]"
   ]
  },
  {
   "cell_type": "code",
   "execution_count": 102,
   "metadata": {},
   "outputs": [
    {
     "data": {
      "text/plain": [
       "0.018445830969937606"
      ]
     },
     "execution_count": 102,
     "metadata": {},
     "output_type": "execute_result"
    }
   ],
   "source": [
    "#the percentage of beers that have a overall review > 4.5 is 1.845%\n",
    "len(beer_groups1[mask1])/len(beer_groups1)"
   ]
  },
  {
   "cell_type": "code",
   "execution_count": 27,
   "metadata": {},
   "outputs": [
    {
     "data": {
      "text/plain": [
       "MultiIndex([('review_overall', 'count'),\n",
       "            ('review_overall',  'mean')],\n",
       "           )"
      ]
     },
     "execution_count": 27,
     "metadata": {},
     "output_type": "execute_result"
    }
   ],
   "source": [
    "beer_groups1.columns"
   ]
  },
  {
   "cell_type": "code",
   "execution_count": 28,
   "metadata": {
    "scrolled": true
   },
   "outputs": [
    {
     "data": {
      "text/html": [
       "<div>\n",
       "<style scoped>\n",
       "    .dataframe tbody tr th:only-of-type {\n",
       "        vertical-align: middle;\n",
       "    }\n",
       "\n",
       "    .dataframe tbody tr th {\n",
       "        vertical-align: top;\n",
       "    }\n",
       "\n",
       "    .dataframe thead tr th {\n",
       "        text-align: left;\n",
       "    }\n",
       "\n",
       "    .dataframe thead tr:last-of-type th {\n",
       "        text-align: right;\n",
       "    }\n",
       "</style>\n",
       "<table border=\"1\" class=\"dataframe\">\n",
       "  <thead>\n",
       "    <tr>\n",
       "      <th></th>\n",
       "      <th colspan=\"2\" halign=\"left\">review_overall</th>\n",
       "    </tr>\n",
       "    <tr>\n",
       "      <th></th>\n",
       "      <th>count</th>\n",
       "      <th>mean</th>\n",
       "    </tr>\n",
       "    <tr>\n",
       "      <th>beer_name</th>\n",
       "      <th></th>\n",
       "      <th></th>\n",
       "    </tr>\n",
       "  </thead>\n",
       "  <tbody>\n",
       "    <tr>\n",
       "      <td>Trappist Westvleteren 12</td>\n",
       "      <td>1272</td>\n",
       "      <td>4.617925</td>\n",
       "    </tr>\n",
       "    <tr>\n",
       "      <td>Pliny The Elder</td>\n",
       "      <td>2432</td>\n",
       "      <td>4.593544</td>\n",
       "    </tr>\n",
       "    <tr>\n",
       "      <td>Weihenstephaner Hefeweissbier</td>\n",
       "      <td>1951</td>\n",
       "      <td>4.516146</td>\n",
       "    </tr>\n",
       "    <tr>\n",
       "      <td>The Abyss</td>\n",
       "      <td>1366</td>\n",
       "      <td>4.447657</td>\n",
       "    </tr>\n",
       "    <tr>\n",
       "      <td>Sculpin India Pale Ale</td>\n",
       "      <td>1295</td>\n",
       "      <td>4.435521</td>\n",
       "    </tr>\n",
       "    <tr>\n",
       "      <td>...</td>\n",
       "      <td>...</td>\n",
       "      <td>...</td>\n",
       "    </tr>\n",
       "    <tr>\n",
       "      <td>Budweiser</td>\n",
       "      <td>1418</td>\n",
       "      <td>2.873061</td>\n",
       "    </tr>\n",
       "    <tr>\n",
       "      <td>Miller Lite</td>\n",
       "      <td>1040</td>\n",
       "      <td>2.758173</td>\n",
       "    </tr>\n",
       "    <tr>\n",
       "      <td>Corona Extra</td>\n",
       "      <td>1082</td>\n",
       "      <td>2.609057</td>\n",
       "    </tr>\n",
       "    <tr>\n",
       "      <td>Coors Light</td>\n",
       "      <td>1129</td>\n",
       "      <td>2.572631</td>\n",
       "    </tr>\n",
       "    <tr>\n",
       "      <td>Bud Light</td>\n",
       "      <td>1252</td>\n",
       "      <td>2.411741</td>\n",
       "    </tr>\n",
       "  </tbody>\n",
       "</table>\n",
       "<p>199 rows × 2 columns</p>\n",
       "</div>"
      ],
      "text/plain": [
       "                              review_overall          \n",
       "                                       count      mean\n",
       "beer_name                                             \n",
       "Trappist Westvleteren 12                1272  4.617925\n",
       "Pliny The Elder                         2432  4.593544\n",
       "Weihenstephaner Hefeweissbier           1951  4.516146\n",
       "The Abyss                               1366  4.447657\n",
       "Sculpin India Pale Ale                  1295  4.435521\n",
       "...                                      ...       ...\n",
       "Budweiser                               1418  2.873061\n",
       "Miller Lite                             1040  2.758173\n",
       "Corona Extra                            1082  2.609057\n",
       "Coors Light                             1129  2.572631\n",
       "Bud Light                               1252  2.411741\n",
       "\n",
       "[199 rows x 2 columns]"
      ]
     },
     "execution_count": 28,
     "metadata": {},
     "output_type": "execute_result"
    }
   ],
   "source": [
    "beer_groups1[mask2].sort_values(by=[('review_overall','mean')], ascending = False)"
   ]
  },
  {
   "cell_type": "code",
   "execution_count": 104,
   "metadata": {},
   "outputs": [
    {
     "data": {
      "text/plain": [
       "0.0045150311968235966"
      ]
     },
     "execution_count": 104,
     "metadata": {},
     "output_type": "execute_result"
    }
   ],
   "source": [
    "#the percentage of beers that have a overall review count > 1000 is 0.45%\n",
    "len(beer_groups1[mask2])/len(beer_groups1)"
   ]
  },
  {
   "cell_type": "code",
   "execution_count": 105,
   "metadata": {
    "scrolled": true
   },
   "outputs": [
    {
     "data": {
      "text/html": [
       "<div>\n",
       "<style scoped>\n",
       "    .dataframe tbody tr th:only-of-type {\n",
       "        vertical-align: middle;\n",
       "    }\n",
       "\n",
       "    .dataframe tbody tr th {\n",
       "        vertical-align: top;\n",
       "    }\n",
       "\n",
       "    .dataframe thead tr th {\n",
       "        text-align: left;\n",
       "    }\n",
       "\n",
       "    .dataframe thead tr:last-of-type th {\n",
       "        text-align: right;\n",
       "    }\n",
       "</style>\n",
       "<table border=\"1\" class=\"dataframe\">\n",
       "  <thead>\n",
       "    <tr>\n",
       "      <th></th>\n",
       "      <th colspan=\"2\" halign=\"left\">review_overall</th>\n",
       "    </tr>\n",
       "    <tr>\n",
       "      <th></th>\n",
       "      <th>count</th>\n",
       "      <th>mean</th>\n",
       "    </tr>\n",
       "    <tr>\n",
       "      <th>beer_name</th>\n",
       "      <th></th>\n",
       "      <th></th>\n",
       "    </tr>\n",
       "  </thead>\n",
       "  <tbody>\n",
       "    <tr>\n",
       "      <td>Trappist Westvleteren 12</td>\n",
       "      <td>1272</td>\n",
       "      <td>4.617925</td>\n",
       "    </tr>\n",
       "    <tr>\n",
       "      <td>Pliny The Elder</td>\n",
       "      <td>2432</td>\n",
       "      <td>4.593544</td>\n",
       "    </tr>\n",
       "    <tr>\n",
       "      <td>Weihenstephaner Hefeweissbier</td>\n",
       "      <td>1951</td>\n",
       "      <td>4.516146</td>\n",
       "    </tr>\n",
       "  </tbody>\n",
       "</table>\n",
       "</div>"
      ],
      "text/plain": [
       "                              review_overall          \n",
       "                                       count      mean\n",
       "beer_name                                             \n",
       "Trappist Westvleteren 12                1272  4.617925\n",
       "Pliny The Elder                         2432  4.593544\n",
       "Weihenstephaner Hefeweissbier           1951  4.516146"
      ]
     },
     "execution_count": 105,
     "metadata": {},
     "output_type": "execute_result"
    }
   ],
   "source": [
    "beer_groups1[mask3].sort_values(by=[('review_overall','mean')], ascending = False)"
   ]
  },
  {
   "cell_type": "markdown",
   "metadata": {},
   "source": [
    "#### Pliny The Elder would be a favourable choice given that the overall review counts are the highest and that the average review is less than 2 basis points away from the highest average review.\n",
    "\n",
    "#### However, it is important to inspect the data for Pliny to confirm assumptions across all characteristic reviews as these are also important "
   ]
  },
  {
   "cell_type": "code",
   "execution_count": 106,
   "metadata": {},
   "outputs": [],
   "source": [
    "beer_mask1 = df2['beer_name'] == \"Pliny The Elder\" \n",
    "beer_mask2 = df2[['beer_name','review_taste']].groupby('beer_name').agg('mean') > 4.5\n",
    "beer_mask3 = df2[['beer_name','review_aroma']].groupby('beer_name').agg('mean') > 4.5\n",
    "beer_mask4 = df2[['beer_name','review_appearance']].groupby('beer_name').agg('mean') > 4.5\n",
    "beer_mask5 = df2[['beer_name','review_palate']].groupby('beer_name').agg('mean') > 4\n",
    "#beer_mask6 = df2[['beer_name', 'review_overall']].groupby('beer_name').agg('count') > 1000\n",
    "\n",
    "beer_mask7 = pd.concat((beer_mask1,beer_mask4), axis=1).all(axis=1)"
   ]
  },
  {
   "cell_type": "code",
   "execution_count": 107,
   "metadata": {
    "scrolled": true
   },
   "outputs": [
    {
     "name": "stderr",
     "output_type": "stream",
     "text": [
      "C:\\Users\\pyari\\Anaconda3\\lib\\site-packages\\ipykernel_launcher.py:1: UserWarning: Boolean Series key will be reindexed to match DataFrame index.\n",
      "  \"\"\"Entry point for launching an IPython kernel.\n"
     ]
    },
    {
     "data": {
      "text/html": [
       "<div>\n",
       "<style scoped>\n",
       "    .dataframe tbody tr th:only-of-type {\n",
       "        vertical-align: middle;\n",
       "    }\n",
       "\n",
       "    .dataframe tbody tr th {\n",
       "        vertical-align: top;\n",
       "    }\n",
       "\n",
       "    .dataframe thead th {\n",
       "        text-align: right;\n",
       "    }\n",
       "</style>\n",
       "<table border=\"1\" class=\"dataframe\">\n",
       "  <thead>\n",
       "    <tr style=\"text-align: right;\">\n",
       "      <th></th>\n",
       "      <th>brewery_id</th>\n",
       "      <th>brewery_name</th>\n",
       "      <th>review_time</th>\n",
       "      <th>review_overall</th>\n",
       "      <th>review_aroma</th>\n",
       "      <th>review_appearance</th>\n",
       "      <th>review_profilename</th>\n",
       "      <th>beer_style</th>\n",
       "      <th>review_palate</th>\n",
       "      <th>review_taste</th>\n",
       "      <th>beer_name</th>\n",
       "      <th>beer_abv</th>\n",
       "      <th>beer_beerid</th>\n",
       "    </tr>\n",
       "  </thead>\n",
       "  <tbody>\n",
       "    <tr>\n",
       "      <td>1127975</td>\n",
       "      <td>863</td>\n",
       "      <td>Russian River Brewing Company</td>\n",
       "      <td>1283617602</td>\n",
       "      <td>5.0</td>\n",
       "      <td>5.0</td>\n",
       "      <td>5.0</td>\n",
       "      <td>SteelKettle</td>\n",
       "      <td>American Double / Imperial IPA</td>\n",
       "      <td>4.5</td>\n",
       "      <td>5.0</td>\n",
       "      <td>Pliny The Elder</td>\n",
       "      <td>8.0</td>\n",
       "      <td>7971</td>\n",
       "    </tr>\n",
       "    <tr>\n",
       "      <td>1134937</td>\n",
       "      <td>863</td>\n",
       "      <td>Russian River Brewing Company</td>\n",
       "      <td>1314497292</td>\n",
       "      <td>5.0</td>\n",
       "      <td>4.5</td>\n",
       "      <td>4.5</td>\n",
       "      <td>lazyboy247</td>\n",
       "      <td>American Double / Imperial IPA</td>\n",
       "      <td>5.0</td>\n",
       "      <td>5.0</td>\n",
       "      <td>Pliny The Elder</td>\n",
       "      <td>8.0</td>\n",
       "      <td>7971</td>\n",
       "    </tr>\n",
       "    <tr>\n",
       "      <td>1134632</td>\n",
       "      <td>863</td>\n",
       "      <td>Russian River Brewing Company</td>\n",
       "      <td>1217439764</td>\n",
       "      <td>5.0</td>\n",
       "      <td>4.5</td>\n",
       "      <td>5.0</td>\n",
       "      <td>HopDerek</td>\n",
       "      <td>American Double / Imperial IPA</td>\n",
       "      <td>5.0</td>\n",
       "      <td>4.5</td>\n",
       "      <td>Pliny The Elder</td>\n",
       "      <td>8.0</td>\n",
       "      <td>7971</td>\n",
       "    </tr>\n",
       "    <tr>\n",
       "      <td>1134630</td>\n",
       "      <td>863</td>\n",
       "      <td>Russian River Brewing Company</td>\n",
       "      <td>1217467408</td>\n",
       "      <td>5.0</td>\n",
       "      <td>5.0</td>\n",
       "      <td>4.0</td>\n",
       "      <td>prototypic</td>\n",
       "      <td>American Double / Imperial IPA</td>\n",
       "      <td>5.0</td>\n",
       "      <td>4.5</td>\n",
       "      <td>Pliny The Elder</td>\n",
       "      <td>8.0</td>\n",
       "      <td>7971</td>\n",
       "    </tr>\n",
       "    <tr>\n",
       "      <td>1134629</td>\n",
       "      <td>863</td>\n",
       "      <td>Russian River Brewing Company</td>\n",
       "      <td>1217472950</td>\n",
       "      <td>5.0</td>\n",
       "      <td>5.0</td>\n",
       "      <td>4.5</td>\n",
       "      <td>THEBEERBAR0N</td>\n",
       "      <td>American Double / Imperial IPA</td>\n",
       "      <td>4.5</td>\n",
       "      <td>5.0</td>\n",
       "      <td>Pliny The Elder</td>\n",
       "      <td>8.0</td>\n",
       "      <td>7971</td>\n",
       "    </tr>\n",
       "    <tr>\n",
       "      <td>1134623</td>\n",
       "      <td>863</td>\n",
       "      <td>Russian River Brewing Company</td>\n",
       "      <td>1217785103</td>\n",
       "      <td>5.0</td>\n",
       "      <td>4.0</td>\n",
       "      <td>4.0</td>\n",
       "      <td>ralree</td>\n",
       "      <td>American Double / Imperial IPA</td>\n",
       "      <td>4.5</td>\n",
       "      <td>5.0</td>\n",
       "      <td>Pliny The Elder</td>\n",
       "      <td>8.0</td>\n",
       "      <td>7971</td>\n",
       "    </tr>\n",
       "    <tr>\n",
       "      <td>1134615</td>\n",
       "      <td>863</td>\n",
       "      <td>Russian River Brewing Company</td>\n",
       "      <td>1218069934</td>\n",
       "      <td>5.0</td>\n",
       "      <td>4.5</td>\n",
       "      <td>4.5</td>\n",
       "      <td>AKBelgianBeast</td>\n",
       "      <td>American Double / Imperial IPA</td>\n",
       "      <td>4.5</td>\n",
       "      <td>4.5</td>\n",
       "      <td>Pliny The Elder</td>\n",
       "      <td>8.0</td>\n",
       "      <td>7971</td>\n",
       "    </tr>\n",
       "    <tr>\n",
       "      <td>1134613</td>\n",
       "      <td>863</td>\n",
       "      <td>Russian River Brewing Company</td>\n",
       "      <td>1218079132</td>\n",
       "      <td>5.0</td>\n",
       "      <td>5.0</td>\n",
       "      <td>4.5</td>\n",
       "      <td>fo5s</td>\n",
       "      <td>American Double / Imperial IPA</td>\n",
       "      <td>4.0</td>\n",
       "      <td>4.5</td>\n",
       "      <td>Pliny The Elder</td>\n",
       "      <td>8.0</td>\n",
       "      <td>7971</td>\n",
       "    </tr>\n",
       "    <tr>\n",
       "      <td>1134612</td>\n",
       "      <td>863</td>\n",
       "      <td>Russian River Brewing Company</td>\n",
       "      <td>1218251032</td>\n",
       "      <td>5.0</td>\n",
       "      <td>4.5</td>\n",
       "      <td>4.5</td>\n",
       "      <td>redneckchugger</td>\n",
       "      <td>American Double / Imperial IPA</td>\n",
       "      <td>5.0</td>\n",
       "      <td>5.0</td>\n",
       "      <td>Pliny The Elder</td>\n",
       "      <td>8.0</td>\n",
       "      <td>7971</td>\n",
       "    </tr>\n",
       "    <tr>\n",
       "      <td>1134610</td>\n",
       "      <td>863</td>\n",
       "      <td>Russian River Brewing Company</td>\n",
       "      <td>1218375126</td>\n",
       "      <td>5.0</td>\n",
       "      <td>4.5</td>\n",
       "      <td>4.0</td>\n",
       "      <td>TheodorHerzl</td>\n",
       "      <td>American Double / Imperial IPA</td>\n",
       "      <td>4.5</td>\n",
       "      <td>4.0</td>\n",
       "      <td>Pliny The Elder</td>\n",
       "      <td>8.0</td>\n",
       "      <td>7971</td>\n",
       "    </tr>\n",
       "  </tbody>\n",
       "</table>\n",
       "</div>"
      ],
      "text/plain": [
       "         brewery_id                   brewery_name  review_time  \\\n",
       "1127975         863  Russian River Brewing Company   1283617602   \n",
       "1134937         863  Russian River Brewing Company   1314497292   \n",
       "1134632         863  Russian River Brewing Company   1217439764   \n",
       "1134630         863  Russian River Brewing Company   1217467408   \n",
       "1134629         863  Russian River Brewing Company   1217472950   \n",
       "1134623         863  Russian River Brewing Company   1217785103   \n",
       "1134615         863  Russian River Brewing Company   1218069934   \n",
       "1134613         863  Russian River Brewing Company   1218079132   \n",
       "1134612         863  Russian River Brewing Company   1218251032   \n",
       "1134610         863  Russian River Brewing Company   1218375126   \n",
       "\n",
       "         review_overall  review_aroma  review_appearance review_profilename  \\\n",
       "1127975             5.0           5.0                5.0        SteelKettle   \n",
       "1134937             5.0           4.5                4.5         lazyboy247   \n",
       "1134632             5.0           4.5                5.0           HopDerek   \n",
       "1134630             5.0           5.0                4.0         prototypic   \n",
       "1134629             5.0           5.0                4.5       THEBEERBAR0N   \n",
       "1134623             5.0           4.0                4.0             ralree   \n",
       "1134615             5.0           4.5                4.5     AKBelgianBeast   \n",
       "1134613             5.0           5.0                4.5               fo5s   \n",
       "1134612             5.0           4.5                4.5     redneckchugger   \n",
       "1134610             5.0           4.5                4.0       TheodorHerzl   \n",
       "\n",
       "                             beer_style  review_palate  review_taste  \\\n",
       "1127975  American Double / Imperial IPA            4.5           5.0   \n",
       "1134937  American Double / Imperial IPA            5.0           5.0   \n",
       "1134632  American Double / Imperial IPA            5.0           4.5   \n",
       "1134630  American Double / Imperial IPA            5.0           4.5   \n",
       "1134629  American Double / Imperial IPA            4.5           5.0   \n",
       "1134623  American Double / Imperial IPA            4.5           5.0   \n",
       "1134615  American Double / Imperial IPA            4.5           4.5   \n",
       "1134613  American Double / Imperial IPA            4.0           4.5   \n",
       "1134612  American Double / Imperial IPA            5.0           5.0   \n",
       "1134610  American Double / Imperial IPA            4.5           4.0   \n",
       "\n",
       "               beer_name  beer_abv  beer_beerid  \n",
       "1127975  Pliny The Elder       8.0         7971  \n",
       "1134937  Pliny The Elder       8.0         7971  \n",
       "1134632  Pliny The Elder       8.0         7971  \n",
       "1134630  Pliny The Elder       8.0         7971  \n",
       "1134629  Pliny The Elder       8.0         7971  \n",
       "1134623  Pliny The Elder       8.0         7971  \n",
       "1134615  Pliny The Elder       8.0         7971  \n",
       "1134613  Pliny The Elder       8.0         7971  \n",
       "1134612  Pliny The Elder       8.0         7971  \n",
       "1134610  Pliny The Elder       8.0         7971  "
      ]
     },
     "execution_count": 107,
     "metadata": {},
     "output_type": "execute_result"
    }
   ],
   "source": [
    "top_10_overall = df2[beer_mask7].sort_values(by='review_overall', ascending=False).head(10)\n",
    "top_10_overall"
   ]
  },
  {
   "cell_type": "markdown",
   "metadata": {},
   "source": [
    "#### At this point we have isolated 3 beers based on overall review counts of greater than 1000 and average overall reviews > 4.5\n",
    "\n",
    "#### However, in analysing the results for Pliny The Elder, it can be seen that the beer characteristic reviews (taste, appearance, palate and aroma) are not all above 4.5\n",
    "\n",
    "#### In determining the \"best\" 2 beers, it would be imperative to look at all reviews and not just the overall as perhaps a \"perfect\" beer exists which can achieve a rating of greater than 4 across all characteristic reviews and still have an overall review count which is significant (80% of the highest beer overall review count\n",
    "\n",
    "#### In order to easily do this by filtering the dataset for these above conditions, the exported csv file with all the data cleaning changes (df2) will be visualized in Tableau"
   ]
  },
  {
   "cell_type": "code",
   "execution_count": 108,
   "metadata": {},
   "outputs": [],
   "source": [
    "df2.to_csv(r'C:\\Users\\pyari\\beer_reviews_python.csv')"
   ]
  },
  {
   "cell_type": "markdown",
   "metadata": {},
   "source": [
    "## 6. Further Analysis\n",
    "\n",
    "An interesting idea to ensure that the best beer is selected may be to predict the overall review based on the characteristics reviews.\n",
    "\n",
    "As previouosly discussed in describing the data, correlation indicates an positive or negative relationships thatmay give us insight into whether regression is useful to predict the overall reviews of beers in future.\n",
    "\n",
    "From the below code we can see that review_taste is the most positively correlated to review_overall with 0.787 followed by palate, aroma and lasly appearance."
   ]
  },
  {
   "cell_type": "code",
   "execution_count": 130,
   "metadata": {},
   "outputs": [
    {
     "data": {
      "text/html": [
       "<div>\n",
       "<style scoped>\n",
       "    .dataframe tbody tr th:only-of-type {\n",
       "        vertical-align: middle;\n",
       "    }\n",
       "\n",
       "    .dataframe tbody tr th {\n",
       "        vertical-align: top;\n",
       "    }\n",
       "\n",
       "    .dataframe thead th {\n",
       "        text-align: right;\n",
       "    }\n",
       "</style>\n",
       "<table border=\"1\" class=\"dataframe\">\n",
       "  <thead>\n",
       "    <tr style=\"text-align: right;\">\n",
       "      <th></th>\n",
       "      <th>brewery_id</th>\n",
       "      <th>review_overall</th>\n",
       "      <th>review_aroma</th>\n",
       "      <th>review_appearance</th>\n",
       "      <th>review_palate</th>\n",
       "      <th>review_taste</th>\n",
       "      <th>beer_abv</th>\n",
       "      <th>beer_beerid</th>\n",
       "    </tr>\n",
       "  </thead>\n",
       "  <tbody>\n",
       "    <tr>\n",
       "      <td>brewery_id</td>\n",
       "      <td>1.000000</td>\n",
       "      <td>-0.007950</td>\n",
       "      <td>0.022347</td>\n",
       "      <td>0.004685</td>\n",
       "      <td>0.001428</td>\n",
       "      <td>-0.000066</td>\n",
       "      <td>0.064243</td>\n",
       "      <td>0.418847</td>\n",
       "    </tr>\n",
       "    <tr>\n",
       "      <td>review_overall</td>\n",
       "      <td>-0.007950</td>\n",
       "      <td>1.000000</td>\n",
       "      <td>0.612798</td>\n",
       "      <td>0.498496</td>\n",
       "      <td>0.698947</td>\n",
       "      <td>0.787350</td>\n",
       "      <td>0.138362</td>\n",
       "      <td>0.004331</td>\n",
       "    </tr>\n",
       "    <tr>\n",
       "      <td>review_aroma</td>\n",
       "      <td>0.022347</td>\n",
       "      <td>0.612798</td>\n",
       "      <td>1.000000</td>\n",
       "      <td>0.558874</td>\n",
       "      <td>0.614575</td>\n",
       "      <td>0.714501</td>\n",
       "      <td>0.332326</td>\n",
       "      <td>0.079676</td>\n",
       "    </tr>\n",
       "    <tr>\n",
       "      <td>review_appearance</td>\n",
       "      <td>0.004685</td>\n",
       "      <td>0.498496</td>\n",
       "      <td>0.558874</td>\n",
       "      <td>1.000000</td>\n",
       "      <td>0.564295</td>\n",
       "      <td>0.544277</td>\n",
       "      <td>0.263707</td>\n",
       "      <td>0.057265</td>\n",
       "    </tr>\n",
       "    <tr>\n",
       "      <td>review_palate</td>\n",
       "      <td>0.001428</td>\n",
       "      <td>0.698947</td>\n",
       "      <td>0.614575</td>\n",
       "      <td>0.564295</td>\n",
       "      <td>1.000000</td>\n",
       "      <td>0.732024</td>\n",
       "      <td>0.286397</td>\n",
       "      <td>0.045960</td>\n",
       "    </tr>\n",
       "    <tr>\n",
       "      <td>review_taste</td>\n",
       "      <td>-0.000066</td>\n",
       "      <td>0.787350</td>\n",
       "      <td>0.714501</td>\n",
       "      <td>0.544277</td>\n",
       "      <td>0.732024</td>\n",
       "      <td>1.000000</td>\n",
       "      <td>0.290543</td>\n",
       "      <td>0.031834</td>\n",
       "    </tr>\n",
       "    <tr>\n",
       "      <td>beer_abv</td>\n",
       "      <td>0.064243</td>\n",
       "      <td>0.138362</td>\n",
       "      <td>0.332326</td>\n",
       "      <td>0.263707</td>\n",
       "      <td>0.286397</td>\n",
       "      <td>0.290543</td>\n",
       "      <td>1.000000</td>\n",
       "      <td>0.201023</td>\n",
       "    </tr>\n",
       "    <tr>\n",
       "      <td>beer_beerid</td>\n",
       "      <td>0.418847</td>\n",
       "      <td>0.004331</td>\n",
       "      <td>0.079676</td>\n",
       "      <td>0.057265</td>\n",
       "      <td>0.045960</td>\n",
       "      <td>0.031834</td>\n",
       "      <td>0.201023</td>\n",
       "      <td>1.000000</td>\n",
       "    </tr>\n",
       "  </tbody>\n",
       "</table>\n",
       "</div>"
      ],
      "text/plain": [
       "                   brewery_id  review_overall  review_aroma  \\\n",
       "brewery_id           1.000000       -0.007950      0.022347   \n",
       "review_overall      -0.007950        1.000000      0.612798   \n",
       "review_aroma         0.022347        0.612798      1.000000   \n",
       "review_appearance    0.004685        0.498496      0.558874   \n",
       "review_palate        0.001428        0.698947      0.614575   \n",
       "review_taste        -0.000066        0.787350      0.714501   \n",
       "beer_abv             0.064243        0.138362      0.332326   \n",
       "beer_beerid          0.418847        0.004331      0.079676   \n",
       "\n",
       "                   review_appearance  review_palate  review_taste  beer_abv  \\\n",
       "brewery_id                  0.004685       0.001428     -0.000066  0.064243   \n",
       "review_overall              0.498496       0.698947      0.787350  0.138362   \n",
       "review_aroma                0.558874       0.614575      0.714501  0.332326   \n",
       "review_appearance           1.000000       0.564295      0.544277  0.263707   \n",
       "review_palate               0.564295       1.000000      0.732024  0.286397   \n",
       "review_taste                0.544277       0.732024      1.000000  0.290543   \n",
       "beer_abv                    0.263707       0.286397      0.290543  1.000000   \n",
       "beer_beerid                 0.057265       0.045960      0.031834  0.201023   \n",
       "\n",
       "                   beer_beerid  \n",
       "brewery_id            0.418847  \n",
       "review_overall        0.004331  \n",
       "review_aroma          0.079676  \n",
       "review_appearance     0.057265  \n",
       "review_palate         0.045960  \n",
       "review_taste          0.031834  \n",
       "beer_abv              0.201023  \n",
       "beer_beerid           1.000000  "
      ]
     },
     "execution_count": 130,
     "metadata": {},
     "output_type": "execute_result"
    }
   ],
   "source": [
    "df2.corr(method = 'pearson')"
   ]
  },
  {
   "cell_type": "markdown",
   "metadata": {},
   "source": [
    "### A scatter plot will allow us to investigate whether a relationship does exist between tatse and overall reviews"
   ]
  },
  {
   "cell_type": "code",
   "execution_count": 139,
   "metadata": {
    "scrolled": true
   },
   "outputs": [
    {
     "data": {
      "image/png": "[encoded data removed]",
      "text/plain": [
       "<Figure size 432x288 with 1 Axes>"
      ]
     },
     "metadata": {
      "needs_background": "light"
     },
     "output_type": "display_data"
    }
   ],
   "source": [
    "#Lets test this relationship - there seems to be an upward linear trend as expected through correlation!\n",
    "plt.scatter(df2['review_overall'].head(200), df2['review_taste'].head(200))\n",
    "plt.show()"
   ]
  },
  {
   "cell_type": "code",
   "execution_count": 154,
   "metadata": {},
   "outputs": [
    {
     "data": {
      "text/plain": [
       "0.7071991545761278"
      ]
     },
     "execution_count": 154,
     "metadata": {},
     "output_type": "execute_result"
    }
   ],
   "source": [
    "#linear regression\n",
    "df3 = df2[['review_taste','review_aroma', 'review_palate', 'review_appearance', 'review_overall']]\n",
    "X = df3.loc[:10000, df3.columns != 'review_overall']\n",
    "y = df3.loc[:10000, df3.columns == 'review_overall']\n",
    "\n",
    "from sklearn.linear_model import LinearRegression\n",
    "\n",
    "reg = LinearRegression().fit(X, y)\n",
    "reg.score(X, y)"
   ]
  },
  {
   "cell_type": "code",
   "execution_count": 155,
   "metadata": {},
   "outputs": [
    {
     "data": {
      "text/plain": [
       "array([[0.57066224, 0.05667164, 0.2288651 , 0.05726315]])"
      ]
     },
     "execution_count": 155,
     "metadata": {},
     "output_type": "execute_result"
    }
   ],
   "source": [
    "reg.coef_"
   ]
  },
  {
   "cell_type": "code",
   "execution_count": 156,
   "metadata": {},
   "outputs": [],
   "source": [
    "from sklearn.model_selection import train_test_split\n",
    "X_train, X_test, y_train, y_test = train_test_split(X, y, test_size=0.2, random_state=0)"
   ]
  },
  {
   "cell_type": "code",
   "execution_count": 157,
   "metadata": {},
   "outputs": [
    {
     "data": {
      "text/plain": [
       "LinearRegression(copy_X=True, fit_intercept=True, n_jobs=None, normalize=False)"
      ]
     },
     "execution_count": 157,
     "metadata": {},
     "output_type": "execute_result"
    }
   ],
   "source": [
    "from sklearn.linear_model import LinearRegression\n",
    "regressor = LinearRegression()\n",
    "regressor.fit(X_train, y_train)"
   ]
  },
  {
   "cell_type": "code",
   "execution_count": 158,
   "metadata": {},
   "outputs": [],
   "source": [
    "y_pred = regressor.predict(X_test)"
   ]
  },
  {
   "cell_type": "code",
   "execution_count": 166,
   "metadata": {},
   "outputs": [
    {
     "data": {
      "text/html": [
       "<div>\n",
       "<style scoped>\n",
       "    .dataframe tbody tr th:only-of-type {\n",
       "        vertical-align: middle;\n",
       "    }\n",
       "\n",
       "    .dataframe tbody tr th {\n",
       "        vertical-align: top;\n",
       "    }\n",
       "\n",
       "    .dataframe thead th {\n",
       "        text-align: right;\n",
       "    }\n",
       "</style>\n",
       "<table border=\"1\" class=\"dataframe\">\n",
       "  <thead>\n",
       "    <tr style=\"text-align: right;\">\n",
       "      <th></th>\n",
       "      <th>Actual</th>\n",
       "      <th>Predicted</th>\n",
       "    </tr>\n",
       "  </thead>\n",
       "  <tbody>\n",
       "    <tr>\n",
       "      <td>0</td>\n",
       "      <td>review_overall\n",
       "6750             5.0\n",
       "9979...</td>\n",
       "      <td>[[4.621702183266249], [1.8319499649061268], [3...</td>\n",
       "    </tr>\n",
       "  </tbody>\n",
       "</table>\n",
       "</div>"
      ],
      "text/plain": [
       "                                              Actual  \\\n",
       "0        review_overall\n",
       "6750             5.0\n",
       "9979...   \n",
       "\n",
       "                                           Predicted  \n",
       "0  [[4.621702183266249], [1.8319499649061268], [3...  "
      ]
     },
     "execution_count": 166,
     "metadata": {},
     "output_type": "execute_result"
    }
   ],
   "source": [
    "df4 = pd.DataFrame({'Actual': [y_test], 'Predicted': [y_pred]})\n",
    "df4"
   ]
  },
  {
   "cell_type": "code",
   "execution_count": null,
   "metadata": {},
   "outputs": [],
   "source": []
  }
 ],
 "metadata": {
  "kernelspec": {
   "display_name": "Python 3",
   "language": "python",
   "name": "python3"
  },
  "language_info": {
   "codemirror_mode": {
    "name": "ipython",
    "version": 3
   },
   "file_extension": ".py",
   "mimetype": "text/x-python",
   "name": "python",
   "nbconvert_exporter": "python",
   "pygments_lexer": "ipython3",
   "version": "3.7.4"
  }
 },
 "nbformat": 4,
 "nbformat_minor": 2
}
